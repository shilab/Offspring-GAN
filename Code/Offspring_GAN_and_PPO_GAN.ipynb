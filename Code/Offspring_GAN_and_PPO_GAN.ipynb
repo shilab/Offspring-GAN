{
  "nbformat": 4,
  "nbformat_minor": 0,
  "metadata": {
    "colab": {
      "name": "Offspring GAN.ipynb",
      "provenance": [],
      "toc_visible": true
    },
    "kernelspec": {
      "name": "python3",
      "display_name": "Python 3"
    },
    "language_info": {
      "name": "python"
    }
  },
  "cells": [
    {
      "cell_type": "markdown",
      "metadata": {
        "id": "7KQGomQrU5xP"
      },
      "source": [
        "# All Imports"
      ]
    },
    {
      "cell_type": "code",
      "metadata": {
        "colab": {
          "base_uri": "https://localhost:8080/"
        },
        "id": "7heGNeSW4Lta",
        "outputId": "b9605590-5e92-41c9-b995-e3428c3b5625"
      },
      "source": [
        "%tensorflow_version 2.x\n",
        "import tensorflow as tf\n",
        "from tensorflow.keras import datasets, layers, Sequential, Model\n",
        "from tensorflow.keras.utils import to_categorical\n",
        "\n",
        "import os\n",
        "import glob\n",
        "import argparse\n",
        "import numpy as np\n",
        "import pandas as pd\n",
        "from matplotlib import pyplot as plt\n",
        "import plotly.express as px\n",
        "import plotly.figure_factory as ff\n",
        "import plotly.graph_objs as go\n",
        "import matplotlib.cm as cm\n",
        "from matplotlib.colors import ListedColormap\n",
        "\n",
        "import cv2\n",
        "# from Computer_Vision.Sobel_Edge_Detection.convolution import convolution\n",
        "# from Computer_Vision.Sobel_Edge_Detection.gaussian_smoothing import gaussian_blur\n",
        "\n",
        "import time\n",
        "import PIL\n",
        "import imageio\n",
        "import pickle\n",
        "from IPython import display\n",
        "import random\n",
        "\n",
        "from sklearn.decomposition import PCA \n",
        "from sklearn.preprocessing import MinMaxScaler\n",
        "from sklearn.cluster import AgglomerativeClustering\n",
        "from sklearn.preprocessing import StandardScaler\n",
        "from sklearn.cluster import KMeans\n",
        "from sklearn.utils import resample\n",
        "\n",
        "# from pydrive.auth import GoogleAuth\n",
        "# from pydrive.drive import GoogleDrive\n",
        "# from google.colab import auth\n",
        "# from oauth2client.client import GoogleCredentials\n",
        " \n",
        "\n",
        "print('\\n',\n",
        "      tf.__version__,'\\n',\n",
        "      np.__version__,'\\n',\n",
        "      pd.__version__)"
      ],
      "execution_count": null,
      "outputs": [
        {
          "output_type": "stream",
          "name": "stdout",
          "text": [
            "\n",
            " 2.6.0 \n",
            " 1.19.5 \n",
            " 1.1.5\n"
          ]
        }
      ]
    },
    {
      "cell_type": "markdown",
      "source": [
        "naming convention: \\\n",
        "Train = Real \\\n",
        "D = X,Y stacked (usually) \\\n",
        "SAGAN1 = offspring GAN trained on biased data \\\n",
        "PPO = PPO GAN (Privacy Preserving Offspring GAN) trained on biased data \\\n",
        "PGcB = PG-cGAN trained on biased data \\\n",
        "Syn = Synthetic data \\\\\n",
        "Syn_ss = Synthetic data passed through Mendelian hybridizer"
      ],
      "metadata": {
        "id": "CJKeElK1cfYz"
      }
    },
    {
      "cell_type": "markdown",
      "metadata": {
        "id": "DwON8HAsxVDl"
      },
      "source": [
        "# Data Retrival and Preprocessing"
      ]
    },
    {
      "cell_type": "code",
      "metadata": {
        "colab": {
          "base_uri": "https://localhost:8080/"
        },
        "id": "7hzUwPx__pUf",
        "outputId": "5ae22975-f3a3-49f4-c60c-de48030ab5e8"
      },
      "source": [
        "from google.colab import drive\n",
        "drive.mount('/content/drive')"
      ],
      "execution_count": null,
      "outputs": [
        {
          "output_type": "stream",
          "name": "stdout",
          "text": [
            "Mounted at /content/drive\n"
          ]
        }
      ]
    },
    {
      "cell_type": "markdown",
      "metadata": {
        "id": "fSoaFRL6dFtF"
      },
      "source": [
        "## Data Retrival from .vcf file and .ped file"
      ]
    },
    {
      "cell_type": "code",
      "metadata": {
        "id": "_2oS9Ve9026g",
        "colab": {
          "base_uri": "https://localhost:8080/"
        },
        "outputId": "bb854cb3-39e6-4849-888a-ed87c67a5174"
      },
      "source": [
        "# load data\n",
        "vcf_file = 'HLA.recode.vcf'\n",
        "\n",
        "# get header\n",
        "with open(vcf_file,'r') as f_in:\n",
        "    # skip info\n",
        "    for line_num in range(252):\n",
        "        f_in.readline()\n",
        "    \n",
        "    line=f_in.readline()\n",
        "# print(line.strip().split('\\t'))\n",
        "\n",
        "# load genotype\n",
        "genotype = pd.read_csv(vcf_file, comment='#', sep='\\t', names=line.strip().split('\\t'))\n",
        "print('genotype_file shape:', genotype.shape)"
      ],
      "execution_count": null,
      "outputs": [
        {
          "output_type": "stream",
          "name": "stdout",
          "text": [
            "genotype_file shape: (7161, 2513)\n"
          ]
        }
      ]
    },
    {
      "cell_type": "code",
      "source": [
        "genotype"
      ],
      "metadata": {
        "colab": {
          "base_uri": "https://localhost:8080/",
          "height": 488
        },
        "id": "hPFXlo_dGICo",
        "outputId": "21a61a58-cf2b-4a7b-b2ce-745a72a59819"
      },
      "execution_count": null,
      "outputs": [
        {
          "output_type": "execute_result",
          "data": {
            "text/html": [
              "\n",
              "  <div id=\"df-0023e6f1-e505-4112-aad6-a76b33064a6d\">\n",
              "    <div class=\"colab-df-container\">\n",
              "      <div>\n",
              "<style scoped>\n",
              "    .dataframe tbody tr th:only-of-type {\n",
              "        vertical-align: middle;\n",
              "    }\n",
              "\n",
              "    .dataframe tbody tr th {\n",
              "        vertical-align: top;\n",
              "    }\n",
              "\n",
              "    .dataframe thead th {\n",
              "        text-align: right;\n",
              "    }\n",
              "</style>\n",
              "<table border=\"1\" class=\"dataframe\">\n",
              "  <thead>\n",
              "    <tr style=\"text-align: right;\">\n",
              "      <th></th>\n",
              "      <th>#CHROM</th>\n",
              "      <th>POS</th>\n",
              "      <th>ID</th>\n",
              "      <th>REF</th>\n",
              "      <th>ALT</th>\n",
              "      <th>QUAL</th>\n",
              "      <th>FILTER</th>\n",
              "      <th>INFO</th>\n",
              "      <th>FORMAT</th>\n",
              "      <th>HG00096</th>\n",
              "      <th>...</th>\n",
              "      <th>NA21128</th>\n",
              "      <th>NA21129</th>\n",
              "      <th>NA21130</th>\n",
              "      <th>NA21133</th>\n",
              "      <th>NA21135</th>\n",
              "      <th>NA21137</th>\n",
              "      <th>NA21141</th>\n",
              "      <th>NA21142</th>\n",
              "      <th>NA21143</th>\n",
              "      <th>NA21144</th>\n",
              "    </tr>\n",
              "  </thead>\n",
              "  <tbody>\n",
              "    <tr>\n",
              "      <th>0</th>\n",
              "      <td>6</td>\n",
              "      <td>33500639</td>\n",
              "      <td>rs6905127</td>\n",
              "      <td>G</td>\n",
              "      <td>A</td>\n",
              "      <td>100</td>\n",
              "      <td>PASS</td>\n",
              "      <td>AC=363;AF=0.072484;AN=5008;NS=2504;DP=17843;EA...</td>\n",
              "      <td>GT</td>\n",
              "      <td>0|0</td>\n",
              "      <td>...</td>\n",
              "      <td>0|0</td>\n",
              "      <td>0|0</td>\n",
              "      <td>0|0</td>\n",
              "      <td>0|0</td>\n",
              "      <td>0|0</td>\n",
              "      <td>0|0</td>\n",
              "      <td>0|0</td>\n",
              "      <td>0|0</td>\n",
              "      <td>0|0</td>\n",
              "      <td>0|0</td>\n",
              "    </tr>\n",
              "    <tr>\n",
              "      <th>1</th>\n",
              "      <td>6</td>\n",
              "      <td>33500853</td>\n",
              "      <td>rs385251</td>\n",
              "      <td>G</td>\n",
              "      <td>A</td>\n",
              "      <td>100</td>\n",
              "      <td>PASS</td>\n",
              "      <td>AC=2541;AF=0.507388;AN=5008;NS=2504;DP=20304;E...</td>\n",
              "      <td>GT</td>\n",
              "      <td>0|0</td>\n",
              "      <td>...</td>\n",
              "      <td>0|1</td>\n",
              "      <td>0|0</td>\n",
              "      <td>0|1</td>\n",
              "      <td>1|0</td>\n",
              "      <td>1|1</td>\n",
              "      <td>0|0</td>\n",
              "      <td>1|1</td>\n",
              "      <td>1|1</td>\n",
              "      <td>1|0</td>\n",
              "      <td>1|0</td>\n",
              "    </tr>\n",
              "    <tr>\n",
              "      <th>2</th>\n",
              "      <td>6</td>\n",
              "      <td>33500930</td>\n",
              "      <td>rs55782090</td>\n",
              "      <td>G</td>\n",
              "      <td>C</td>\n",
              "      <td>100</td>\n",
              "      <td>PASS</td>\n",
              "      <td>AC=492;AF=0.0982428;AN=5008;NS=2504;DP=19157;E...</td>\n",
              "      <td>GT</td>\n",
              "      <td>0|0</td>\n",
              "      <td>...</td>\n",
              "      <td>0|0</td>\n",
              "      <td>0|0</td>\n",
              "      <td>0|1</td>\n",
              "      <td>0|0</td>\n",
              "      <td>0|1</td>\n",
              "      <td>0|0</td>\n",
              "      <td>1|1</td>\n",
              "      <td>0|1</td>\n",
              "      <td>0|0</td>\n",
              "      <td>0|0</td>\n",
              "    </tr>\n",
              "    <tr>\n",
              "      <th>3</th>\n",
              "      <td>6</td>\n",
              "      <td>33501330</td>\n",
              "      <td>rs453295</td>\n",
              "      <td>T</td>\n",
              "      <td>C</td>\n",
              "      <td>100</td>\n",
              "      <td>PASS</td>\n",
              "      <td>AC=378;AF=0.0754792;AN=5008;NS=2504;DP=18996;E...</td>\n",
              "      <td>GT</td>\n",
              "      <td>0|0</td>\n",
              "      <td>...</td>\n",
              "      <td>0|0</td>\n",
              "      <td>0|0</td>\n",
              "      <td>0|0</td>\n",
              "      <td>0|0</td>\n",
              "      <td>0|0</td>\n",
              "      <td>0|0</td>\n",
              "      <td>0|0</td>\n",
              "      <td>0|0</td>\n",
              "      <td>0|0</td>\n",
              "      <td>0|0</td>\n",
              "    </tr>\n",
              "    <tr>\n",
              "      <th>4</th>\n",
              "      <td>6</td>\n",
              "      <td>33501648</td>\n",
              "      <td>rs62405926</td>\n",
              "      <td>A</td>\n",
              "      <td>G</td>\n",
              "      <td>100</td>\n",
              "      <td>PASS</td>\n",
              "      <td>AC=492;AF=0.0982428;AN=5008;NS=2504;DP=20870;E...</td>\n",
              "      <td>GT</td>\n",
              "      <td>0|0</td>\n",
              "      <td>...</td>\n",
              "      <td>0|0</td>\n",
              "      <td>0|0</td>\n",
              "      <td>0|1</td>\n",
              "      <td>0|0</td>\n",
              "      <td>0|1</td>\n",
              "      <td>0|0</td>\n",
              "      <td>1|1</td>\n",
              "      <td>0|1</td>\n",
              "      <td>0|0</td>\n",
              "      <td>0|0</td>\n",
              "    </tr>\n",
              "    <tr>\n",
              "      <th>...</th>\n",
              "      <td>...</td>\n",
              "      <td>...</td>\n",
              "      <td>...</td>\n",
              "      <td>...</td>\n",
              "      <td>...</td>\n",
              "      <td>...</td>\n",
              "      <td>...</td>\n",
              "      <td>...</td>\n",
              "      <td>...</td>\n",
              "      <td>...</td>\n",
              "      <td>...</td>\n",
              "      <td>...</td>\n",
              "      <td>...</td>\n",
              "      <td>...</td>\n",
              "      <td>...</td>\n",
              "      <td>...</td>\n",
              "      <td>...</td>\n",
              "      <td>...</td>\n",
              "      <td>...</td>\n",
              "      <td>...</td>\n",
              "      <td>...</td>\n",
              "    </tr>\n",
              "    <tr>\n",
              "      <th>7156</th>\n",
              "      <td>6</td>\n",
              "      <td>36598209</td>\n",
              "      <td>rs6913530</td>\n",
              "      <td>G</td>\n",
              "      <td>A</td>\n",
              "      <td>100</td>\n",
              "      <td>PASS</td>\n",
              "      <td>AC=1059;AF=0.211462;AN=5008;NS=2504;DP=21764;E...</td>\n",
              "      <td>GT</td>\n",
              "      <td>0|0</td>\n",
              "      <td>...</td>\n",
              "      <td>0|0</td>\n",
              "      <td>0|0</td>\n",
              "      <td>0|0</td>\n",
              "      <td>0|0</td>\n",
              "      <td>0|0</td>\n",
              "      <td>0|0</td>\n",
              "      <td>0|0</td>\n",
              "      <td>0|1</td>\n",
              "      <td>1|1</td>\n",
              "      <td>0|0</td>\n",
              "    </tr>\n",
              "    <tr>\n",
              "      <th>7157</th>\n",
              "      <td>6</td>\n",
              "      <td>36598837</td>\n",
              "      <td>rs9394365</td>\n",
              "      <td>G</td>\n",
              "      <td>C</td>\n",
              "      <td>100</td>\n",
              "      <td>PASS</td>\n",
              "      <td>AC=1126;AF=0.22484;AN=5008;NS=2504;DP=18227;EA...</td>\n",
              "      <td>GT</td>\n",
              "      <td>0|0</td>\n",
              "      <td>...</td>\n",
              "      <td>0|0</td>\n",
              "      <td>0|0</td>\n",
              "      <td>0|0</td>\n",
              "      <td>0|0</td>\n",
              "      <td>0|0</td>\n",
              "      <td>0|0</td>\n",
              "      <td>0|0</td>\n",
              "      <td>0|1</td>\n",
              "      <td>1|1</td>\n",
              "      <td>0|0</td>\n",
              "    </tr>\n",
              "    <tr>\n",
              "      <th>7158</th>\n",
              "      <td>6</td>\n",
              "      <td>36599010</td>\n",
              "      <td>rs4713987</td>\n",
              "      <td>T</td>\n",
              "      <td>C</td>\n",
              "      <td>100</td>\n",
              "      <td>PASS</td>\n",
              "      <td>AC=2404;AF=0.480032;AN=5008;NS=2504;DP=17199;E...</td>\n",
              "      <td>GT</td>\n",
              "      <td>0|0</td>\n",
              "      <td>...</td>\n",
              "      <td>0|0</td>\n",
              "      <td>1|0</td>\n",
              "      <td>0|0</td>\n",
              "      <td>1|0</td>\n",
              "      <td>1|0</td>\n",
              "      <td>0|0</td>\n",
              "      <td>1|0</td>\n",
              "      <td>0|1</td>\n",
              "      <td>1|1</td>\n",
              "      <td>1|1</td>\n",
              "    </tr>\n",
              "    <tr>\n",
              "      <th>7159</th>\n",
              "      <td>6</td>\n",
              "      <td>36599596</td>\n",
              "      <td>rs10947615</td>\n",
              "      <td>T</td>\n",
              "      <td>C</td>\n",
              "      <td>100</td>\n",
              "      <td>PASS</td>\n",
              "      <td>AC=1109;AF=0.221446;AN=5008;NS=2504;DP=16708;E...</td>\n",
              "      <td>GT</td>\n",
              "      <td>0|0</td>\n",
              "      <td>...</td>\n",
              "      <td>0|0</td>\n",
              "      <td>0|0</td>\n",
              "      <td>0|0</td>\n",
              "      <td>0|0</td>\n",
              "      <td>0|0</td>\n",
              "      <td>0|0</td>\n",
              "      <td>0|0</td>\n",
              "      <td>0|1</td>\n",
              "      <td>1|1</td>\n",
              "      <td>0|0</td>\n",
              "    </tr>\n",
              "    <tr>\n",
              "      <th>7160</th>\n",
              "      <td>6</td>\n",
              "      <td>36599812</td>\n",
              "      <td>rs113737267</td>\n",
              "      <td>C</td>\n",
              "      <td>T</td>\n",
              "      <td>100</td>\n",
              "      <td>PASS</td>\n",
              "      <td>AC=274;AF=0.0547125;AN=5008;NS=2504;DP=15343;E...</td>\n",
              "      <td>GT</td>\n",
              "      <td>0|0</td>\n",
              "      <td>...</td>\n",
              "      <td>0|0</td>\n",
              "      <td>0|0</td>\n",
              "      <td>0|0</td>\n",
              "      <td>0|0</td>\n",
              "      <td>0|0</td>\n",
              "      <td>0|0</td>\n",
              "      <td>0|0</td>\n",
              "      <td>0|0</td>\n",
              "      <td>0|0</td>\n",
              "      <td>0|0</td>\n",
              "    </tr>\n",
              "  </tbody>\n",
              "</table>\n",
              "<p>7161 rows × 2513 columns</p>\n",
              "</div>\n",
              "      <button class=\"colab-df-convert\" onclick=\"convertToInteractive('df-0023e6f1-e505-4112-aad6-a76b33064a6d')\"\n",
              "              title=\"Convert this dataframe to an interactive table.\"\n",
              "              style=\"display:none;\">\n",
              "        \n",
              "  <svg xmlns=\"http://www.w3.org/2000/svg\" height=\"24px\"viewBox=\"0 0 24 24\"\n",
              "       width=\"24px\">\n",
              "    <path d=\"M0 0h24v24H0V0z\" fill=\"none\"/>\n",
              "    <path d=\"M18.56 5.44l.94 2.06.94-2.06 2.06-.94-2.06-.94-.94-2.06-.94 2.06-2.06.94zm-11 1L8.5 8.5l.94-2.06 2.06-.94-2.06-.94L8.5 2.5l-.94 2.06-2.06.94zm10 10l.94 2.06.94-2.06 2.06-.94-2.06-.94-.94-2.06-.94 2.06-2.06.94z\"/><path d=\"M17.41 7.96l-1.37-1.37c-.4-.4-.92-.59-1.43-.59-.52 0-1.04.2-1.43.59L10.3 9.45l-7.72 7.72c-.78.78-.78 2.05 0 2.83L4 21.41c.39.39.9.59 1.41.59.51 0 1.02-.2 1.41-.59l7.78-7.78 2.81-2.81c.8-.78.8-2.07 0-2.86zM5.41 20L4 18.59l7.72-7.72 1.47 1.35L5.41 20z\"/>\n",
              "  </svg>\n",
              "      </button>\n",
              "      \n",
              "  <style>\n",
              "    .colab-df-container {\n",
              "      display:flex;\n",
              "      flex-wrap:wrap;\n",
              "      gap: 12px;\n",
              "    }\n",
              "\n",
              "    .colab-df-convert {\n",
              "      background-color: #E8F0FE;\n",
              "      border: none;\n",
              "      border-radius: 50%;\n",
              "      cursor: pointer;\n",
              "      display: none;\n",
              "      fill: #1967D2;\n",
              "      height: 32px;\n",
              "      padding: 0 0 0 0;\n",
              "      width: 32px;\n",
              "    }\n",
              "\n",
              "    .colab-df-convert:hover {\n",
              "      background-color: #E2EBFA;\n",
              "      box-shadow: 0px 1px 2px rgba(60, 64, 67, 0.3), 0px 1px 3px 1px rgba(60, 64, 67, 0.15);\n",
              "      fill: #174EA6;\n",
              "    }\n",
              "\n",
              "    [theme=dark] .colab-df-convert {\n",
              "      background-color: #3B4455;\n",
              "      fill: #D2E3FC;\n",
              "    }\n",
              "\n",
              "    [theme=dark] .colab-df-convert:hover {\n",
              "      background-color: #434B5C;\n",
              "      box-shadow: 0px 1px 3px 1px rgba(0, 0, 0, 0.15);\n",
              "      filter: drop-shadow(0px 1px 2px rgba(0, 0, 0, 0.3));\n",
              "      fill: #FFFFFF;\n",
              "    }\n",
              "  </style>\n",
              "\n",
              "      <script>\n",
              "        const buttonEl =\n",
              "          document.querySelector('#df-0023e6f1-e505-4112-aad6-a76b33064a6d button.colab-df-convert');\n",
              "        buttonEl.style.display =\n",
              "          google.colab.kernel.accessAllowed ? 'block' : 'none';\n",
              "\n",
              "        async function convertToInteractive(key) {\n",
              "          const element = document.querySelector('#df-0023e6f1-e505-4112-aad6-a76b33064a6d');\n",
              "          const dataTable =\n",
              "            await google.colab.kernel.invokeFunction('convertToInteractive',\n",
              "                                                     [key], {});\n",
              "          if (!dataTable) return;\n",
              "\n",
              "          const docLinkHtml = 'Like what you see? Visit the ' +\n",
              "            '<a target=\"_blank\" href=https://colab.research.google.com/notebooks/data_table.ipynb>data table notebook</a>'\n",
              "            + ' to learn more about interactive tables.';\n",
              "          element.innerHTML = '';\n",
              "          dataTable['output_type'] = 'display_data';\n",
              "          await google.colab.output.renderOutput(dataTable, element);\n",
              "          const docLink = document.createElement('div');\n",
              "          docLink.innerHTML = docLinkHtml;\n",
              "          element.appendChild(docLink);\n",
              "        }\n",
              "      </script>\n",
              "    </div>\n",
              "  </div>\n",
              "  "
            ],
            "text/plain": [
              "      #CHROM       POS           ID REF ALT  QUAL FILTER  \\\n",
              "0          6  33500639    rs6905127   G   A   100   PASS   \n",
              "1          6  33500853     rs385251   G   A   100   PASS   \n",
              "2          6  33500930   rs55782090   G   C   100   PASS   \n",
              "3          6  33501330     rs453295   T   C   100   PASS   \n",
              "4          6  33501648   rs62405926   A   G   100   PASS   \n",
              "...      ...       ...          ...  ..  ..   ...    ...   \n",
              "7156       6  36598209    rs6913530   G   A   100   PASS   \n",
              "7157       6  36598837    rs9394365   G   C   100   PASS   \n",
              "7158       6  36599010    rs4713987   T   C   100   PASS   \n",
              "7159       6  36599596   rs10947615   T   C   100   PASS   \n",
              "7160       6  36599812  rs113737267   C   T   100   PASS   \n",
              "\n",
              "                                                   INFO FORMAT HG00096  ...  \\\n",
              "0     AC=363;AF=0.072484;AN=5008;NS=2504;DP=17843;EA...     GT     0|0  ...   \n",
              "1     AC=2541;AF=0.507388;AN=5008;NS=2504;DP=20304;E...     GT     0|0  ...   \n",
              "2     AC=492;AF=0.0982428;AN=5008;NS=2504;DP=19157;E...     GT     0|0  ...   \n",
              "3     AC=378;AF=0.0754792;AN=5008;NS=2504;DP=18996;E...     GT     0|0  ...   \n",
              "4     AC=492;AF=0.0982428;AN=5008;NS=2504;DP=20870;E...     GT     0|0  ...   \n",
              "...                                                 ...    ...     ...  ...   \n",
              "7156  AC=1059;AF=0.211462;AN=5008;NS=2504;DP=21764;E...     GT     0|0  ...   \n",
              "7157  AC=1126;AF=0.22484;AN=5008;NS=2504;DP=18227;EA...     GT     0|0  ...   \n",
              "7158  AC=2404;AF=0.480032;AN=5008;NS=2504;DP=17199;E...     GT     0|0  ...   \n",
              "7159  AC=1109;AF=0.221446;AN=5008;NS=2504;DP=16708;E...     GT     0|0  ...   \n",
              "7160  AC=274;AF=0.0547125;AN=5008;NS=2504;DP=15343;E...     GT     0|0  ...   \n",
              "\n",
              "     NA21128 NA21129 NA21130 NA21133 NA21135 NA21137 NA21141 NA21142 NA21143  \\\n",
              "0        0|0     0|0     0|0     0|0     0|0     0|0     0|0     0|0     0|0   \n",
              "1        0|1     0|0     0|1     1|0     1|1     0|0     1|1     1|1     1|0   \n",
              "2        0|0     0|0     0|1     0|0     0|1     0|0     1|1     0|1     0|0   \n",
              "3        0|0     0|0     0|0     0|0     0|0     0|0     0|0     0|0     0|0   \n",
              "4        0|0     0|0     0|1     0|0     0|1     0|0     1|1     0|1     0|0   \n",
              "...      ...     ...     ...     ...     ...     ...     ...     ...     ...   \n",
              "7156     0|0     0|0     0|0     0|0     0|0     0|0     0|0     0|1     1|1   \n",
              "7157     0|0     0|0     0|0     0|0     0|0     0|0     0|0     0|1     1|1   \n",
              "7158     0|0     1|0     0|0     1|0     1|0     0|0     1|0     0|1     1|1   \n",
              "7159     0|0     0|0     0|0     0|0     0|0     0|0     0|0     0|1     1|1   \n",
              "7160     0|0     0|0     0|0     0|0     0|0     0|0     0|0     0|0     0|0   \n",
              "\n",
              "     NA21144  \n",
              "0        0|0  \n",
              "1        1|0  \n",
              "2        0|0  \n",
              "3        0|0  \n",
              "4        0|0  \n",
              "...      ...  \n",
              "7156     0|0  \n",
              "7157     0|0  \n",
              "7158     1|1  \n",
              "7159     0|0  \n",
              "7160     0|0  \n",
              "\n",
              "[7161 rows x 2513 columns]"
            ]
          },
          "metadata": {},
          "execution_count": 4
        }
      ]
    },
    {
      "cell_type": "code",
      "metadata": {
        "id": "oitcx2wH4Lt3"
      },
      "source": [
        "X_train = genotype.iloc[:, 9:].replace({\n",
        "    '0|0': 0,\n",
        "    '0|1': 1,\n",
        "    '1|0': 2,\n",
        "    '1|1': 3\n",
        "}).transpose()\n",
        "# X_train.shape"
      ],
      "execution_count": null,
      "outputs": []
    },
    {
      "cell_type": "code",
      "metadata": {
        "id": "ZUZjS-eI4Lt-"
      },
      "source": [
        "ped_file = 'integrated_call_samples.20130502.ALL.ped'\n",
        "pedigree = pd.read_csv(ped_file, sep='\\t', index_col='Individual ID')"
      ],
      "execution_count": null,
      "outputs": []
    },
    {
      "cell_type": "code",
      "metadata": {
        "id": "dwtwBB0T4LuA"
      },
      "source": [
        "pedigree['Super Population'] = pedigree['Population']\n",
        "pedigree['Super Population'] = pedigree['Super Population'].replace({\n",
        "    'YRI': 'AFR', 'CEU': 'EUR', 'GWD': 'AFR', 'ESN': 'AFR',\n",
        "    'CHS': 'EAS', 'IBS': 'EUR', 'PJL': 'SAS', 'PUR': 'AMR',\n",
        "    'CLM': 'AMR', 'BEB': 'SAS', 'CHB': 'EAS', 'PEL': 'AMR',\n",
        "    'STU': 'SAS', 'MSL': 'AFR', 'JPT': 'EAS', 'KHV': 'EAS',\n",
        "    'ACB': 'AMR', 'LWK': 'AFR', 'ITU': 'SAS', 'GIH': 'SAS',\n",
        "    'ASW': 'AMR', 'TSI': 'EUR', 'CDX': 'EAS', 'CHD': 'EAS',\n",
        "    'GBR': 'EUR', 'MXL': 'AMR', 'FIN': 'EUR' })"
      ],
      "execution_count": null,
      "outputs": []
    },
    {
      "cell_type": "code",
      "metadata": {
        "id": "PVSPnAXO4LuC",
        "colab": {
          "base_uri": "https://localhost:8080/",
          "height": 267
        },
        "outputId": "3fa5ab5b-d649-4503-9285-85e88ee42415"
      },
      "source": [
        "pedigree['Super Population'] = pedigree['Super Population'].replace({\n",
        "    'EAS': 0,\n",
        "    'AMR': 1,\n",
        "    'EUR': 2,\n",
        "    'AFR': 3,\n",
        "    'SAS': 4\n",
        "})\n",
        "pedigree.head()"
      ],
      "execution_count": null,
      "outputs": [
        {
          "output_type": "execute_result",
          "data": {
            "text/html": [
              "<div>\n",
              "<style scoped>\n",
              "    .dataframe tbody tr th:only-of-type {\n",
              "        vertical-align: middle;\n",
              "    }\n",
              "\n",
              "    .dataframe tbody tr th {\n",
              "        vertical-align: top;\n",
              "    }\n",
              "\n",
              "    .dataframe thead th {\n",
              "        text-align: right;\n",
              "    }\n",
              "</style>\n",
              "<table border=\"1\" class=\"dataframe\">\n",
              "  <thead>\n",
              "    <tr style=\"text-align: right;\">\n",
              "      <th></th>\n",
              "      <th>Family ID</th>\n",
              "      <th>Paternal ID</th>\n",
              "      <th>Maternal ID</th>\n",
              "      <th>Gender</th>\n",
              "      <th>Phenotype</th>\n",
              "      <th>Population</th>\n",
              "      <th>Relationship</th>\n",
              "      <th>Siblings</th>\n",
              "      <th>Second Order</th>\n",
              "      <th>Third Order</th>\n",
              "      <th>Children</th>\n",
              "      <th>Other Comments</th>\n",
              "      <th>Super Population</th>\n",
              "    </tr>\n",
              "    <tr>\n",
              "      <th>Individual ID</th>\n",
              "      <th></th>\n",
              "      <th></th>\n",
              "      <th></th>\n",
              "      <th></th>\n",
              "      <th></th>\n",
              "      <th></th>\n",
              "      <th></th>\n",
              "      <th></th>\n",
              "      <th></th>\n",
              "      <th></th>\n",
              "      <th></th>\n",
              "      <th></th>\n",
              "      <th></th>\n",
              "    </tr>\n",
              "  </thead>\n",
              "  <tbody>\n",
              "    <tr>\n",
              "      <th>HG00096</th>\n",
              "      <td>HG00096</td>\n",
              "      <td>0</td>\n",
              "      <td>0</td>\n",
              "      <td>1</td>\n",
              "      <td>0</td>\n",
              "      <td>GBR</td>\n",
              "      <td>unrel</td>\n",
              "      <td>0</td>\n",
              "      <td>0</td>\n",
              "      <td>0</td>\n",
              "      <td>0</td>\n",
              "      <td>0</td>\n",
              "      <td>2</td>\n",
              "    </tr>\n",
              "    <tr>\n",
              "      <th>HG00097</th>\n",
              "      <td>HG00097</td>\n",
              "      <td>0</td>\n",
              "      <td>0</td>\n",
              "      <td>2</td>\n",
              "      <td>0</td>\n",
              "      <td>GBR</td>\n",
              "      <td>unrel</td>\n",
              "      <td>0</td>\n",
              "      <td>0</td>\n",
              "      <td>0</td>\n",
              "      <td>0</td>\n",
              "      <td>0</td>\n",
              "      <td>2</td>\n",
              "    </tr>\n",
              "    <tr>\n",
              "      <th>HG00098</th>\n",
              "      <td>HG00098</td>\n",
              "      <td>0</td>\n",
              "      <td>0</td>\n",
              "      <td>1</td>\n",
              "      <td>0</td>\n",
              "      <td>GBR</td>\n",
              "      <td>unrel</td>\n",
              "      <td>0</td>\n",
              "      <td>0</td>\n",
              "      <td>0</td>\n",
              "      <td>0</td>\n",
              "      <td>0</td>\n",
              "      <td>2</td>\n",
              "    </tr>\n",
              "    <tr>\n",
              "      <th>HG00099</th>\n",
              "      <td>HG00099</td>\n",
              "      <td>0</td>\n",
              "      <td>0</td>\n",
              "      <td>2</td>\n",
              "      <td>0</td>\n",
              "      <td>GBR</td>\n",
              "      <td>unrel</td>\n",
              "      <td>0</td>\n",
              "      <td>0</td>\n",
              "      <td>0</td>\n",
              "      <td>0</td>\n",
              "      <td>0</td>\n",
              "      <td>2</td>\n",
              "    </tr>\n",
              "    <tr>\n",
              "      <th>HG00100</th>\n",
              "      <td>HG00100</td>\n",
              "      <td>0</td>\n",
              "      <td>0</td>\n",
              "      <td>2</td>\n",
              "      <td>0</td>\n",
              "      <td>GBR</td>\n",
              "      <td>unrel</td>\n",
              "      <td>0</td>\n",
              "      <td>0</td>\n",
              "      <td>0</td>\n",
              "      <td>0</td>\n",
              "      <td>0</td>\n",
              "      <td>2</td>\n",
              "    </tr>\n",
              "  </tbody>\n",
              "</table>\n",
              "</div>"
            ],
            "text/plain": [
              "              Family ID Paternal ID  ... Other Comments  Super Population\n",
              "Individual ID                        ...                                 \n",
              "HG00096         HG00096           0  ...              0                 2\n",
              "HG00097         HG00097           0  ...              0                 2\n",
              "HG00098         HG00098           0  ...              0                 2\n",
              "HG00099         HG00099           0  ...              0                 2\n",
              "HG00100         HG00100           0  ...              0                 2\n",
              "\n",
              "[5 rows x 13 columns]"
            ]
          },
          "metadata": {},
          "execution_count": 8
        }
      ]
    },
    {
      "cell_type": "code",
      "metadata": {
        "id": "66WFin0v4LuE"
      },
      "source": [
        "# Use super population as label\n",
        "Y_train = pedigree.loc[genotype.iloc[:, 9:].columns,:]['Super Population']\n",
        "# Y_train.head()"
      ],
      "execution_count": null,
      "outputs": []
    },
    {
      "cell_type": "code",
      "metadata": {
        "id": "uJe4_7I8aOH3",
        "colab": {
          "base_uri": "https://localhost:8080/",
          "height": 269
        },
        "outputId": "db7b7981-2bf1-44b4-cdf0-83a7156e21af"
      },
      "source": [
        "X_train = X_train.loc[Y_train.index, :7159]\n",
        "print(X_train.shape)\n",
        "X_train.head()"
      ],
      "execution_count": null,
      "outputs": [
        {
          "output_type": "stream",
          "text": [
            "(2504, 7160)\n"
          ],
          "name": "stdout"
        },
        {
          "output_type": "execute_result",
          "data": {
            "text/html": [
              "<div>\n",
              "<style scoped>\n",
              "    .dataframe tbody tr th:only-of-type {\n",
              "        vertical-align: middle;\n",
              "    }\n",
              "\n",
              "    .dataframe tbody tr th {\n",
              "        vertical-align: top;\n",
              "    }\n",
              "\n",
              "    .dataframe thead th {\n",
              "        text-align: right;\n",
              "    }\n",
              "</style>\n",
              "<table border=\"1\" class=\"dataframe\">\n",
              "  <thead>\n",
              "    <tr style=\"text-align: right;\">\n",
              "      <th></th>\n",
              "      <th>0</th>\n",
              "      <th>1</th>\n",
              "      <th>2</th>\n",
              "      <th>3</th>\n",
              "      <th>4</th>\n",
              "      <th>5</th>\n",
              "      <th>6</th>\n",
              "      <th>7</th>\n",
              "      <th>8</th>\n",
              "      <th>9</th>\n",
              "      <th>10</th>\n",
              "      <th>11</th>\n",
              "      <th>12</th>\n",
              "      <th>13</th>\n",
              "      <th>14</th>\n",
              "      <th>15</th>\n",
              "      <th>16</th>\n",
              "      <th>17</th>\n",
              "      <th>18</th>\n",
              "      <th>19</th>\n",
              "      <th>20</th>\n",
              "      <th>21</th>\n",
              "      <th>22</th>\n",
              "      <th>23</th>\n",
              "      <th>24</th>\n",
              "      <th>25</th>\n",
              "      <th>26</th>\n",
              "      <th>27</th>\n",
              "      <th>28</th>\n",
              "      <th>29</th>\n",
              "      <th>30</th>\n",
              "      <th>31</th>\n",
              "      <th>32</th>\n",
              "      <th>33</th>\n",
              "      <th>34</th>\n",
              "      <th>35</th>\n",
              "      <th>36</th>\n",
              "      <th>37</th>\n",
              "      <th>38</th>\n",
              "      <th>39</th>\n",
              "      <th>...</th>\n",
              "      <th>7120</th>\n",
              "      <th>7121</th>\n",
              "      <th>7122</th>\n",
              "      <th>7123</th>\n",
              "      <th>7124</th>\n",
              "      <th>7125</th>\n",
              "      <th>7126</th>\n",
              "      <th>7127</th>\n",
              "      <th>7128</th>\n",
              "      <th>7129</th>\n",
              "      <th>7130</th>\n",
              "      <th>7131</th>\n",
              "      <th>7132</th>\n",
              "      <th>7133</th>\n",
              "      <th>7134</th>\n",
              "      <th>7135</th>\n",
              "      <th>7136</th>\n",
              "      <th>7137</th>\n",
              "      <th>7138</th>\n",
              "      <th>7139</th>\n",
              "      <th>7140</th>\n",
              "      <th>7141</th>\n",
              "      <th>7142</th>\n",
              "      <th>7143</th>\n",
              "      <th>7144</th>\n",
              "      <th>7145</th>\n",
              "      <th>7146</th>\n",
              "      <th>7147</th>\n",
              "      <th>7148</th>\n",
              "      <th>7149</th>\n",
              "      <th>7150</th>\n",
              "      <th>7151</th>\n",
              "      <th>7152</th>\n",
              "      <th>7153</th>\n",
              "      <th>7154</th>\n",
              "      <th>7155</th>\n",
              "      <th>7156</th>\n",
              "      <th>7157</th>\n",
              "      <th>7158</th>\n",
              "      <th>7159</th>\n",
              "    </tr>\n",
              "  </thead>\n",
              "  <tbody>\n",
              "    <tr>\n",
              "      <th>HG00096</th>\n",
              "      <td>0</td>\n",
              "      <td>0</td>\n",
              "      <td>0</td>\n",
              "      <td>0</td>\n",
              "      <td>0</td>\n",
              "      <td>0</td>\n",
              "      <td>0</td>\n",
              "      <td>0</td>\n",
              "      <td>0</td>\n",
              "      <td>0</td>\n",
              "      <td>0</td>\n",
              "      <td>0</td>\n",
              "      <td>0</td>\n",
              "      <td>0</td>\n",
              "      <td>0</td>\n",
              "      <td>0</td>\n",
              "      <td>0</td>\n",
              "      <td>0</td>\n",
              "      <td>0</td>\n",
              "      <td>0</td>\n",
              "      <td>0</td>\n",
              "      <td>0</td>\n",
              "      <td>0</td>\n",
              "      <td>0</td>\n",
              "      <td>0</td>\n",
              "      <td>0</td>\n",
              "      <td>0</td>\n",
              "      <td>0</td>\n",
              "      <td>0</td>\n",
              "      <td>0</td>\n",
              "      <td>0</td>\n",
              "      <td>0</td>\n",
              "      <td>0</td>\n",
              "      <td>1</td>\n",
              "      <td>0</td>\n",
              "      <td>0</td>\n",
              "      <td>0</td>\n",
              "      <td>0</td>\n",
              "      <td>0</td>\n",
              "      <td>0</td>\n",
              "      <td>...</td>\n",
              "      <td>0</td>\n",
              "      <td>0</td>\n",
              "      <td>0</td>\n",
              "      <td>0</td>\n",
              "      <td>1</td>\n",
              "      <td>0</td>\n",
              "      <td>0</td>\n",
              "      <td>0</td>\n",
              "      <td>0</td>\n",
              "      <td>0</td>\n",
              "      <td>0</td>\n",
              "      <td>0</td>\n",
              "      <td>2</td>\n",
              "      <td>2</td>\n",
              "      <td>2</td>\n",
              "      <td>0</td>\n",
              "      <td>0</td>\n",
              "      <td>0</td>\n",
              "      <td>0</td>\n",
              "      <td>0</td>\n",
              "      <td>0</td>\n",
              "      <td>0</td>\n",
              "      <td>0</td>\n",
              "      <td>0</td>\n",
              "      <td>2</td>\n",
              "      <td>0</td>\n",
              "      <td>0</td>\n",
              "      <td>0</td>\n",
              "      <td>0</td>\n",
              "      <td>2</td>\n",
              "      <td>0</td>\n",
              "      <td>0</td>\n",
              "      <td>0</td>\n",
              "      <td>0</td>\n",
              "      <td>0</td>\n",
              "      <td>0</td>\n",
              "      <td>0</td>\n",
              "      <td>0</td>\n",
              "      <td>0</td>\n",
              "      <td>0</td>\n",
              "    </tr>\n",
              "    <tr>\n",
              "      <th>HG00097</th>\n",
              "      <td>0</td>\n",
              "      <td>2</td>\n",
              "      <td>2</td>\n",
              "      <td>0</td>\n",
              "      <td>2</td>\n",
              "      <td>0</td>\n",
              "      <td>0</td>\n",
              "      <td>0</td>\n",
              "      <td>0</td>\n",
              "      <td>2</td>\n",
              "      <td>2</td>\n",
              "      <td>0</td>\n",
              "      <td>2</td>\n",
              "      <td>2</td>\n",
              "      <td>2</td>\n",
              "      <td>2</td>\n",
              "      <td>2</td>\n",
              "      <td>2</td>\n",
              "      <td>2</td>\n",
              "      <td>2</td>\n",
              "      <td>2</td>\n",
              "      <td>2</td>\n",
              "      <td>2</td>\n",
              "      <td>2</td>\n",
              "      <td>2</td>\n",
              "      <td>2</td>\n",
              "      <td>2</td>\n",
              "      <td>2</td>\n",
              "      <td>2</td>\n",
              "      <td>2</td>\n",
              "      <td>2</td>\n",
              "      <td>3</td>\n",
              "      <td>3</td>\n",
              "      <td>1</td>\n",
              "      <td>0</td>\n",
              "      <td>0</td>\n",
              "      <td>2</td>\n",
              "      <td>2</td>\n",
              "      <td>2</td>\n",
              "      <td>2</td>\n",
              "      <td>...</td>\n",
              "      <td>1</td>\n",
              "      <td>0</td>\n",
              "      <td>1</td>\n",
              "      <td>1</td>\n",
              "      <td>0</td>\n",
              "      <td>0</td>\n",
              "      <td>0</td>\n",
              "      <td>0</td>\n",
              "      <td>0</td>\n",
              "      <td>0</td>\n",
              "      <td>1</td>\n",
              "      <td>1</td>\n",
              "      <td>1</td>\n",
              "      <td>1</td>\n",
              "      <td>1</td>\n",
              "      <td>1</td>\n",
              "      <td>1</td>\n",
              "      <td>1</td>\n",
              "      <td>1</td>\n",
              "      <td>0</td>\n",
              "      <td>0</td>\n",
              "      <td>0</td>\n",
              "      <td>0</td>\n",
              "      <td>1</td>\n",
              "      <td>2</td>\n",
              "      <td>2</td>\n",
              "      <td>1</td>\n",
              "      <td>1</td>\n",
              "      <td>1</td>\n",
              "      <td>2</td>\n",
              "      <td>1</td>\n",
              "      <td>1</td>\n",
              "      <td>1</td>\n",
              "      <td>1</td>\n",
              "      <td>1</td>\n",
              "      <td>0</td>\n",
              "      <td>1</td>\n",
              "      <td>1</td>\n",
              "      <td>1</td>\n",
              "      <td>1</td>\n",
              "    </tr>\n",
              "    <tr>\n",
              "      <th>HG00099</th>\n",
              "      <td>0</td>\n",
              "      <td>1</td>\n",
              "      <td>0</td>\n",
              "      <td>0</td>\n",
              "      <td>0</td>\n",
              "      <td>0</td>\n",
              "      <td>0</td>\n",
              "      <td>0</td>\n",
              "      <td>0</td>\n",
              "      <td>0</td>\n",
              "      <td>0</td>\n",
              "      <td>0</td>\n",
              "      <td>0</td>\n",
              "      <td>0</td>\n",
              "      <td>0</td>\n",
              "      <td>0</td>\n",
              "      <td>0</td>\n",
              "      <td>0</td>\n",
              "      <td>0</td>\n",
              "      <td>0</td>\n",
              "      <td>0</td>\n",
              "      <td>0</td>\n",
              "      <td>0</td>\n",
              "      <td>0</td>\n",
              "      <td>0</td>\n",
              "      <td>0</td>\n",
              "      <td>0</td>\n",
              "      <td>0</td>\n",
              "      <td>0</td>\n",
              "      <td>0</td>\n",
              "      <td>0</td>\n",
              "      <td>0</td>\n",
              "      <td>0</td>\n",
              "      <td>0</td>\n",
              "      <td>0</td>\n",
              "      <td>0</td>\n",
              "      <td>0</td>\n",
              "      <td>0</td>\n",
              "      <td>0</td>\n",
              "      <td>0</td>\n",
              "      <td>...</td>\n",
              "      <td>3</td>\n",
              "      <td>0</td>\n",
              "      <td>3</td>\n",
              "      <td>3</td>\n",
              "      <td>0</td>\n",
              "      <td>0</td>\n",
              "      <td>0</td>\n",
              "      <td>0</td>\n",
              "      <td>0</td>\n",
              "      <td>0</td>\n",
              "      <td>3</td>\n",
              "      <td>3</td>\n",
              "      <td>3</td>\n",
              "      <td>3</td>\n",
              "      <td>3</td>\n",
              "      <td>3</td>\n",
              "      <td>3</td>\n",
              "      <td>3</td>\n",
              "      <td>3</td>\n",
              "      <td>0</td>\n",
              "      <td>0</td>\n",
              "      <td>0</td>\n",
              "      <td>0</td>\n",
              "      <td>3</td>\n",
              "      <td>0</td>\n",
              "      <td>0</td>\n",
              "      <td>3</td>\n",
              "      <td>3</td>\n",
              "      <td>3</td>\n",
              "      <td>0</td>\n",
              "      <td>1</td>\n",
              "      <td>3</td>\n",
              "      <td>3</td>\n",
              "      <td>3</td>\n",
              "      <td>3</td>\n",
              "      <td>0</td>\n",
              "      <td>3</td>\n",
              "      <td>3</td>\n",
              "      <td>3</td>\n",
              "      <td>3</td>\n",
              "    </tr>\n",
              "    <tr>\n",
              "      <th>HG00100</th>\n",
              "      <td>0</td>\n",
              "      <td>1</td>\n",
              "      <td>1</td>\n",
              "      <td>0</td>\n",
              "      <td>1</td>\n",
              "      <td>0</td>\n",
              "      <td>0</td>\n",
              "      <td>0</td>\n",
              "      <td>0</td>\n",
              "      <td>1</td>\n",
              "      <td>1</td>\n",
              "      <td>0</td>\n",
              "      <td>1</td>\n",
              "      <td>1</td>\n",
              "      <td>1</td>\n",
              "      <td>1</td>\n",
              "      <td>1</td>\n",
              "      <td>1</td>\n",
              "      <td>1</td>\n",
              "      <td>1</td>\n",
              "      <td>1</td>\n",
              "      <td>1</td>\n",
              "      <td>1</td>\n",
              "      <td>1</td>\n",
              "      <td>1</td>\n",
              "      <td>1</td>\n",
              "      <td>1</td>\n",
              "      <td>1</td>\n",
              "      <td>1</td>\n",
              "      <td>1</td>\n",
              "      <td>1</td>\n",
              "      <td>1</td>\n",
              "      <td>1</td>\n",
              "      <td>0</td>\n",
              "      <td>0</td>\n",
              "      <td>0</td>\n",
              "      <td>1</td>\n",
              "      <td>1</td>\n",
              "      <td>1</td>\n",
              "      <td>1</td>\n",
              "      <td>...</td>\n",
              "      <td>1</td>\n",
              "      <td>0</td>\n",
              "      <td>1</td>\n",
              "      <td>1</td>\n",
              "      <td>0</td>\n",
              "      <td>0</td>\n",
              "      <td>0</td>\n",
              "      <td>0</td>\n",
              "      <td>0</td>\n",
              "      <td>0</td>\n",
              "      <td>1</td>\n",
              "      <td>1</td>\n",
              "      <td>1</td>\n",
              "      <td>1</td>\n",
              "      <td>1</td>\n",
              "      <td>1</td>\n",
              "      <td>1</td>\n",
              "      <td>1</td>\n",
              "      <td>1</td>\n",
              "      <td>0</td>\n",
              "      <td>0</td>\n",
              "      <td>0</td>\n",
              "      <td>0</td>\n",
              "      <td>1</td>\n",
              "      <td>0</td>\n",
              "      <td>2</td>\n",
              "      <td>1</td>\n",
              "      <td>1</td>\n",
              "      <td>1</td>\n",
              "      <td>0</td>\n",
              "      <td>0</td>\n",
              "      <td>1</td>\n",
              "      <td>1</td>\n",
              "      <td>1</td>\n",
              "      <td>1</td>\n",
              "      <td>0</td>\n",
              "      <td>1</td>\n",
              "      <td>1</td>\n",
              "      <td>1</td>\n",
              "      <td>1</td>\n",
              "    </tr>\n",
              "    <tr>\n",
              "      <th>HG00101</th>\n",
              "      <td>0</td>\n",
              "      <td>3</td>\n",
              "      <td>2</td>\n",
              "      <td>0</td>\n",
              "      <td>2</td>\n",
              "      <td>0</td>\n",
              "      <td>0</td>\n",
              "      <td>0</td>\n",
              "      <td>0</td>\n",
              "      <td>2</td>\n",
              "      <td>2</td>\n",
              "      <td>0</td>\n",
              "      <td>2</td>\n",
              "      <td>2</td>\n",
              "      <td>2</td>\n",
              "      <td>2</td>\n",
              "      <td>2</td>\n",
              "      <td>2</td>\n",
              "      <td>2</td>\n",
              "      <td>2</td>\n",
              "      <td>2</td>\n",
              "      <td>2</td>\n",
              "      <td>2</td>\n",
              "      <td>2</td>\n",
              "      <td>2</td>\n",
              "      <td>2</td>\n",
              "      <td>2</td>\n",
              "      <td>2</td>\n",
              "      <td>2</td>\n",
              "      <td>2</td>\n",
              "      <td>0</td>\n",
              "      <td>2</td>\n",
              "      <td>2</td>\n",
              "      <td>0</td>\n",
              "      <td>0</td>\n",
              "      <td>0</td>\n",
              "      <td>2</td>\n",
              "      <td>2</td>\n",
              "      <td>2</td>\n",
              "      <td>2</td>\n",
              "      <td>...</td>\n",
              "      <td>2</td>\n",
              "      <td>0</td>\n",
              "      <td>2</td>\n",
              "      <td>2</td>\n",
              "      <td>0</td>\n",
              "      <td>0</td>\n",
              "      <td>0</td>\n",
              "      <td>0</td>\n",
              "      <td>0</td>\n",
              "      <td>0</td>\n",
              "      <td>2</td>\n",
              "      <td>2</td>\n",
              "      <td>3</td>\n",
              "      <td>3</td>\n",
              "      <td>3</td>\n",
              "      <td>2</td>\n",
              "      <td>2</td>\n",
              "      <td>2</td>\n",
              "      <td>2</td>\n",
              "      <td>0</td>\n",
              "      <td>0</td>\n",
              "      <td>0</td>\n",
              "      <td>0</td>\n",
              "      <td>2</td>\n",
              "      <td>1</td>\n",
              "      <td>0</td>\n",
              "      <td>2</td>\n",
              "      <td>2</td>\n",
              "      <td>2</td>\n",
              "      <td>1</td>\n",
              "      <td>2</td>\n",
              "      <td>2</td>\n",
              "      <td>2</td>\n",
              "      <td>2</td>\n",
              "      <td>2</td>\n",
              "      <td>0</td>\n",
              "      <td>2</td>\n",
              "      <td>2</td>\n",
              "      <td>2</td>\n",
              "      <td>2</td>\n",
              "    </tr>\n",
              "  </tbody>\n",
              "</table>\n",
              "<p>5 rows × 7160 columns</p>\n",
              "</div>"
            ],
            "text/plain": [
              "         0     1     2     3     4     5     ...  7154  7155  7156  7157  7158  7159\n",
              "HG00096     0     0     0     0     0     0  ...     0     0     0     0     0     0\n",
              "HG00097     0     2     2     0     2     0  ...     1     0     1     1     1     1\n",
              "HG00099     0     1     0     0     0     0  ...     3     0     3     3     3     3\n",
              "HG00100     0     1     1     0     1     0  ...     1     0     1     1     1     1\n",
              "HG00101     0     3     2     0     2     0  ...     2     0     2     2     2     2\n",
              "\n",
              "[5 rows x 7160 columns]"
            ]
          },
          "metadata": {},
          "execution_count": 11
        }
      ]
    },
    {
      "cell_type": "code",
      "metadata": {
        "id": "ae-DA49Vau3Y"
      },
      "source": [
        "X_train = to_categorical(X_train)\n",
        "# print(X_train.shape)\n",
        "# X_train = X_train[:, :7160,:].reshape((X_train.shape[0], 7160, 4))\n",
        "# print(X_train.shape)\n",
        "np.save(\"X_train\",X_train)"
      ],
      "execution_count": null,
      "outputs": []
    },
    {
      "cell_type": "code",
      "metadata": {
        "id": "Ax8BmSDZ4LuG",
        "colab": {
          "base_uri": "https://localhost:8080/"
        },
        "outputId": "dcae0a37-a160-4000-d013-f38ccd269ed8"
      },
      "source": [
        "print(np.unique(Y_train, return_counts=True))\n",
        "np.save(\"Y_train\",Y_train)"
      ],
      "execution_count": null,
      "outputs": [
        {
          "output_type": "stream",
          "text": [
            "(array([0, 1, 2, 3, 4]), array([504, 504, 503, 504, 489]))\n"
          ],
          "name": "stdout"
        }
      ]
    },
    {
      "cell_type": "code",
      "metadata": {
        "id": "MpKPRm-OAIBI",
        "colab": {
          "base_uri": "https://localhost:8080/",
          "height": 315
        },
        "outputId": "72efdd27-eab3-4b77-c621-3c7d3799ee7d"
      },
      "source": [
        "plt.hist(Y_train)"
      ],
      "execution_count": null,
      "outputs": [
        {
          "output_type": "execute_result",
          "data": {
            "text/plain": [
              "(array([504.,   0., 504.,   0.,   0., 503.,   0., 504.,   0., 489.]),\n",
              " array([0. , 0.4, 0.8, 1.2, 1.6, 2. , 2.4, 2.8, 3.2, 3.6, 4. ]),\n",
              " <a list of 10 Patch objects>)"
            ]
          },
          "metadata": {},
          "execution_count": 21
        },
        {
          "output_type": "display_data",
          "data": {
            "image/png": "[encoded data removed]",
            "text/plain": [
              "<Figure size 432x288 with 1 Axes>"
            ]
          },
          "metadata": {
            "needs_background": "light"
          }
        }
      ]
    },
    {
      "cell_type": "code",
      "metadata": {
        "id": "udlZzhVGJ_sW"
      },
      "source": [
        "!cp X_train.npy /content/drive/MyDrive/X_Shi_Lab/Data_HLA/\n",
        "!cp Y_train.npy /content/drive/MyDrive/X_Shi_Lab/Data_HLA/\n"
      ],
      "execution_count": null,
      "outputs": []
    },
    {
      "cell_type": "code",
      "source": [
        "plt.colorbar =  cmap=plt.get_cmap(\"BuPu_r\")\n",
        "plt.imshow(np.argmax(X_train[0], axis=-1).reshape(179,40,), cmap=plt.get_cmap(\"BuPu_r\"))\n",
        "plt.title('label: {}'.format(Y_train[0]))"
      ],
      "metadata": {
        "colab": {
          "base_uri": "https://localhost:8080/",
          "height": 300
        },
        "id": "nAf8qvLTvBCz",
        "outputId": "02d2d84f-19c3-4273-924b-dee13ca0594c"
      },
      "execution_count": null,
      "outputs": [
        {
          "output_type": "execute_result",
          "data": {
            "text/plain": [
              "Text(0.5, 1.0, 'label: 2')"
            ]
          },
          "metadata": {},
          "execution_count": 10
        },
        {
          "output_type": "display_data",
          "data": {
            "text/plain": [
              "<Figure size 432x288 with 1 Axes>"
            ],
            "image/png": "[encoded data removed]"
          },
          "metadata": {
            "needs_background": "light"
          }
        }
      ]
    },
    {
      "cell_type": "markdown",
      "source": [
        "## Whole Real Dataset"
      ],
      "metadata": {
        "id": "J-D0Dx-YSYNs"
      }
    },
    {
      "cell_type": "code",
      "metadata": {
        "id": "tnIt1JoMvNks"
      },
      "source": [
        "X_real_cat = np.load('/content/drive/MyDrive/X_Shi_Lab/Data_HLA/X_train.npy')\n",
        "X_real = np.argmax(X_real_cat, axis=2) \n",
        "Y_real = np.load('/content/drive/MyDrive/X_Shi_Lab/Data_HLA/Y_train.npy')\n",
        "Y_real = Y_real.reshape((2504,1))\n",
        "D_real = np.hstack((X_real,Y_real)) \n",
        "\n",
        "D_columns = np.load('/content/drive/MyDrive/X_Shi_Lab/Data_HLA/column.npy')\n",
        "D_columns = D_columns.tolist()\n",
        "D_real = pd.DataFrame(D_real, columns=D_columns)\n",
        "D_real[\"GAN SYN Label\"]=D_real[\"GAN SYN Label\"].replace({   \n",
        "    0: 'EAS',\n",
        "    1 : 'AMR',\n",
        "    2 : 'EUR',\n",
        "    3 : 'AFR',\n",
        "    4 : 'SAS'})\n",
        "# df_real = D_real.drop('GAN SYN Label', axis= 1)\n",
        "# df_real_corr=df_real.corr(method='pearson')\n",
        "# plt.imshow(df_real_corr, cmap=plt.get_cmap(\"BuPu_r\"))\n",
        "# np.save(\"df_real_corr.npy\",df_real_corr)\n",
        "# !cp df_real_corr.npy \"/content/drive/MyDrive/X_Shi_Lab/Data_HLA/\""
      ],
      "execution_count": null,
      "outputs": []
    },
    {
      "cell_type": "code",
      "metadata": {
        "id": "qNaXcmjFEMkB"
      },
      "source": [
        "# Sort all population\n",
        "X_real_EAS = np.empty(shape=(0,7160))\n",
        "Y_real_EAS = np.empty(shape=(0,1))\n",
        "X_real_AMR = np.empty(shape=(0,7160))\n",
        "Y_real_AMR = np.empty(shape=(0,1))\n",
        "X_real_EUR = np.empty(shape=(0,7160))\n",
        "Y_real_EUR = np.empty(shape=(0,1))\n",
        "X_real_AFR = np.empty(shape=(0,7160))\n",
        "Y_real_AFR = np.empty(shape=(0,1))\n",
        "X_real_SAS = np.empty(shape=(0,7160))\n",
        "Y_real_SAS = np.empty(shape=(0,1))\n",
        "\n",
        "for i in range (X_real.shape[0]):\n",
        "  if D_real.iloc[i][7160]== 'EAS':\n",
        "    X_real_EAS= np.vstack((X_real_EAS,X_real[i]))\n",
        "    Y_real_EAS= np.vstack((Y_real_EAS,Y_real[i])) #This is how stupid I am ! \n",
        "  if D_real.iloc[i][7160]== 'AMR':\n",
        "    X_real_AMR= np.vstack((X_real_AMR,X_real[i]))\n",
        "    Y_real_AMR= np.vstack((Y_real_AMR,Y_real[i]))\n",
        "  if D_real.iloc[i][7160]== 'EUR':\n",
        "    X_real_EUR= np.vstack((X_real_EUR,X_real[i]))\n",
        "    Y_real_EUR= np.vstack((Y_real_EUR,Y_real[i]))\n",
        "  if D_real.iloc[i][7160]== 'AFR':\n",
        "    X_real_AFR= np.vstack((X_real_AFR,X_real[i]))\n",
        "    Y_real_AFR= np.vstack((Y_real_AFR,Y_real[i]))\n",
        "  if D_real.iloc[i][7160]== 'SAS':\n",
        "    X_real_SAS= np.vstack((X_real_SAS,X_real[i]))\n",
        "    Y_real_SAS= np.vstack((Y_real_SAS,Y_real[i]))\n",
        "\n",
        "\n",
        "# all of these are not one hot encoded yet \n",
        "\n",
        "D_real_EAS = np.hstack((X_real_EAS,Y_real_EAS))\n",
        "D_real_AMR = np.hstack((X_real_AMR,Y_real_AMR))\n",
        "D_real_EUR = np.hstack((X_real_EUR,Y_real_EUR))\n",
        "D_real_AFR = np.hstack((X_real_AFR,Y_real_AFR))\n",
        "D_real_SAS = np.hstack((X_real_SAS,Y_real_SAS))\n",
        "\n",
        "\n",
        "np.save(\"D_real_EAS.npy\",D_real_EAS)\n",
        "!cp D_real_EAS.npy \"/content/drive/MyDrive/X_Shi_Lab/Data_HLA/\"\n",
        "np.save(\"D_real_AMR.npy\",D_real_AMR)\n",
        "!cp D_real_AMR.npy \"/content/drive/MyDrive/X_Shi_Lab/Data_HLA/\"\n",
        "np.save(\"D_real_EUR.npy\",D_real_EUR)\n",
        "!cp D_real_EUR.npy \"/content/drive/MyDrive/X_Shi_Lab/Data_HLA/\"\n",
        "np.save(\"D_real_AFR.npy\",D_real_AFR)\n",
        "!cp D_real_AFR.npy \"/content/drive/MyDrive/X_Shi_Lab/Data_HLA/\"\n",
        "np.save(\"D_real_SAS.npy\",D_real_SAS)\n",
        "!cp D_real_SAS.npy \"/content/drive/MyDrive/X_Shi_Lab/Data_HLA/\"\n",
        "# D_real_EAS = np.load('/content/drive/MyDrive/X_Shi_Lab/Data_HLA/D_real_EAS.npy')\n",
        "# D_real_AMR = np.load('/content/drive/MyDrive/X_Shi_Lab/Data_HLA/D_real_AMR.npy')\n",
        "# D_real_EUR = np.load('/content/drive/MyDrive/X_Shi_Lab/Data_HLA/D_real_EUR.npy')\n",
        "# D_real_AFR = np.load('/content/drive/MyDrive/X_Shi_Lab/Data_HLA/D_real_AFR.npy')\n",
        "# D_real_SAS = np.load('/content/drive/MyDrive/X_Shi_Lab/Data_HLA/D_real_SAS.npy')"
      ],
      "execution_count": null,
      "outputs": []
    },
    {
      "cell_type": "markdown",
      "source": [
        "## Creating Biased Dataset"
      ],
      "metadata": {
        "id": "svhzft6OR6mT"
      }
    },
    {
      "cell_type": "code",
      "source": [
        "#EAS\n",
        "t_list=[]\n",
        "# for i in range(100):\n",
        "while len(t_list) < 100:\n",
        "  r=random.randint(0,503)\n",
        "  if r not in t_list: t_list.append(r)\n",
        "D_t_real_EAS = np.empty(shape=(0,D_real_EAS.shape[1]))\n",
        "for i in t_list:\n",
        "  D_t_real_EAS = np.vstack((D_t_real_EAS,D_real_EAS[i]))\n",
        "#AMR\n",
        "t_list=[]\n",
        "# for i in range(100):\n",
        "while len(t_list) < 100:\n",
        "  r=random.randint(0,503)\n",
        "  if r not in t_list: t_list.append(r)\n",
        "D_t_real_AMR = np.empty(shape=(0,D_real_AMR.shape[1]))\n",
        "for i in t_list:\n",
        "  D_t_real_AMR = np.vstack((D_t_real_AMR,D_real_AMR[i]))\n",
        "#EUR\n",
        "t_list=[]\n",
        "# for i in range(100):\n",
        "while len(t_list) < 100:\n",
        "  r=random.randint(0,502)\n",
        "  if r not in t_list: t_list.append(r)\n",
        "D_t_real_EUR = np.empty(shape=(0,D_real_EUR.shape[1]))\n",
        "for i in t_list:\n",
        "  D_t_real_EUR = np.vstack((D_t_real_EUR,D_real_EUR[i]))\n",
        "#AFR\n",
        "t_list=[]\n",
        "# for i in range(100):\n",
        "while len(t_list) < 100:\n",
        "  r=random.randint(0,503)\n",
        "  if r not in t_list: t_list.append(r)\n",
        "D_t_real_AFR = np.empty(shape=(0,D_real_AFR.shape[1]))\n",
        "for i in t_list:\n",
        "  D_t_real_AFR = np.vstack((D_t_real_AFR,D_real_AFR[i]))\n",
        "#SAS\n",
        "t_list=[]\n",
        "# for i in range(100):\n",
        "while len(t_list) < 100:\n",
        "  r=random.randint(0,488) \n",
        "  if r not in t_list: t_list.append(r)\n",
        "D_t_real_SAS = np.empty(shape=(0,D_real_SAS.shape[1]))\n",
        "for i in t_list:\n",
        "  D_t_real_SAS = np.vstack((D_t_real_SAS,D_real_SAS[i]))"
      ],
      "metadata": {
        "id": "0ialz8xSR5ny"
      },
      "execution_count": null,
      "outputs": []
    },
    {
      "cell_type": "markdown",
      "source": [
        "## Make small blocks for Mendelian hybridizer's input "
      ],
      "metadata": {
        "id": "3dn3-u_uSGZT"
      }
    },
    {
      "cell_type": "code",
      "source": [
        "D_t_real_EAS_bb1=D_t_real_EAS[:,0:1000]\n",
        "D_t_real_EAS_bb2=D_t_real_EAS[:,1000:2000]\n",
        "D_t_real_EAS_bb3=D_t_real_EAS[:,2000:3000]\n",
        "D_t_real_EAS_bb4=D_t_real_EAS[:,3000:4000]\n",
        "D_t_real_EAS_bb5=D_t_real_EAS[:,4000:5000]\n",
        "D_t_real_EAS_bb6=D_t_real_EAS[:,5000:6000]\n",
        "D_t_real_EAS_bb7=D_t_real_EAS[:,6000:7161]\n",
        "\n",
        "# D_t_real_AMR_bb1=D_t_real_AMR[:,0:1000]\n",
        "# D_t_real_AMR_bb2=D_t_real_AMR[:,1000:2000]\n",
        "# D_t_real_AMR_bb3=D_t_real_AMR[:,2000:3000]\n",
        "# D_t_real_AMR_bb4=D_t_real_AMR[:,3000:4000]\n",
        "# D_t_real_AMR_bb5=D_t_real_AMR[:,4000:5000]\n",
        "# D_t_real_AMR_bb6=D_t_real_AMR[:,5000:6000]\n",
        "# D_t_real_AMR_bb7=D_t_real_AMR[:,6000:7161]\n",
        "\n",
        "# D_t_real_EUR_bb1=D_t_real_EUR[:,0:1000]\n",
        "# D_t_real_EUR_bb2=D_t_real_EUR[:,1000:2000]\n",
        "# D_t_real_EUR_bb3=D_t_real_EUR[:,2000:3000]\n",
        "# D_t_real_EUR_bb4=D_t_real_EUR[:,3000:4000]\n",
        "# D_t_real_EUR_bb5=D_t_real_EUR[:,4000:5000]\n",
        "# D_t_real_EUR_bb6=D_t_real_EUR[:,5000:6000]\n",
        "# D_t_real_EUR_bb7=D_t_real_EUR[:,6000:7161]\n",
        "\n",
        "D_t_real_AFR_bb1=D_t_real_AFR[:,0:1000]\n",
        "D_t_real_AFR_bb2=D_t_real_AFR[:,1000:2000]\n",
        "D_t_real_AFR_bb3=D_t_real_AFR[:,2000:3000]\n",
        "D_t_real_AFR_bb4=D_t_real_AFR[:,3000:4000]\n",
        "D_t_real_AFR_bb5=D_t_real_AFR[:,4000:5000]\n",
        "D_t_real_AFR_bb6=D_t_real_AFR[:,5000:6000]\n",
        "D_t_real_AFR_bb7=D_t_real_AFR[:,6000:7161]\n",
        "\n",
        "D_t_real_SAS_bb1=D_t_real_SAS[:,0:1000]\n",
        "D_t_real_SAS_bb2=D_t_real_SAS[:,1000:2000]\n",
        "D_t_real_SAS_bb3=D_t_real_SAS[:,2000:3000]\n",
        "D_t_real_SAS_bb4=D_t_real_SAS[:,3000:4000]\n",
        "D_t_real_SAS_bb5=D_t_real_SAS[:,4000:5000]\n",
        "D_t_real_SAS_bb6=D_t_real_SAS[:,5000:6000]\n",
        "D_t_real_SAS_bb7=D_t_real_SAS[:,6000:]"
      ],
      "metadata": {
        "id": "wskZUrt0RgJy"
      },
      "execution_count": null,
      "outputs": []
    },
    {
      "cell_type": "markdown",
      "metadata": {
        "id": "Om94ETtD0u0w"
      },
      "source": [
        "# Offspring GAN"
      ]
    },
    {
      "cell_type": "markdown",
      "metadata": {
        "id": "wmn9B87jURmF"
      },
      "source": [
        "## Common Parameters and functions"
      ]
    },
    {
      "cell_type": "code",
      "metadata": {
        "id": "LsfBCC0N4LuO"
      },
      "source": [
        "noise_dim = 100\n",
        "genotype_len = 7160\n",
        "channels = 4\n",
        "genotype_shape = (genotype_len, channels)\n",
        "num_classes = 5\n",
        "lrelu_alpha = 0.2\n",
        "# batch_size=32 #defined later "
      ],
      "execution_count": null,
      "outputs": []
    },
    {
      "cell_type": "code",
      "metadata": {
        "id": "7lsQ-3p9hoCS"
      },
      "source": [
        "'''https://github.com/IShengFang/SpectralNormalizationKeras'''\n",
        "\n",
        "from tensorflow.keras import activations\n",
        "from tensorflow.keras import initializers\n",
        "from tensorflow.keras import regularizers\n",
        "from tensorflow.keras import constraints\n",
        "from tensorflow.keras.layers import InputSpec\n",
        "import tensorflow.keras.backend as K\n",
        "\n",
        "class ClipConstraint(constraints.Constraint):\n",
        "    # set clip value when initialized\n",
        "    def __init__(self, clip_value):\n",
        "      self.clip_value = clip_value\n",
        "  \n",
        "    # clip model weights to hypercube\n",
        "    def __call__(self, weights):\n",
        "      return K.clip(weights, -self.clip_value, self.clip_value)\n",
        "  \n",
        "    # get the config\n",
        "    def get_config(self):\n",
        "      return {'clip_value': self.clip_value}\n",
        "\n",
        "class ConvSN1D(tf.keras.layers.Conv1D):\n",
        "    \n",
        "    def build(self, input_shape):\n",
        "        if self.data_format == 'channels_first':\n",
        "            channel_axis = 1\n",
        "        else:\n",
        "            channel_axis = -1\n",
        "        if input_shape[channel_axis] is None:\n",
        "            raise ValueError('The channel dimension of the inputs '\n",
        "                             'should be defined. Found `None`.')\n",
        "        input_dim = input_shape[channel_axis]\n",
        "        kernel_shape = self.kernel_size + (input_dim, self.filters)\n",
        "\n",
        "        self.kernel = self.add_weight(shape=kernel_shape,\n",
        "                                      initializer=self.kernel_initializer,\n",
        "                                      name='kernel',\n",
        "                                      regularizer=self.kernel_regularizer,\n",
        "                                      constraint=self.kernel_constraint)\n",
        "\n",
        "        if self.use_bias:\n",
        "            self.bias = self.add_weight(shape=(self.filters,),\n",
        "                                        initializer=self.bias_initializer,\n",
        "                                        name='bias',\n",
        "                                        regularizer=self.bias_regularizer,\n",
        "                                        constraint=self.bias_constraint)\n",
        "        else:\n",
        "            self.bias = None\n",
        "            \n",
        "        self.u = self.add_weight(shape=tuple([1, self.kernel.shape.as_list()[-1]]),\n",
        "                 initializer=initializers.RandomNormal(0, 1),\n",
        "                 name='sn',\n",
        "                 trainable=False)\n",
        "        # Set input spec.\n",
        "        self.input_spec = InputSpec(ndim=self.rank + 2,\n",
        "                                    axes={channel_axis: input_dim})\n",
        "        self.built = True\n",
        "        \n",
        "    def call(self, inputs, training=None):\n",
        "        def _l2normalize(v, eps=1e-12):\n",
        "            return v / (K.sum(v ** 2) ** 0.5 + eps)\n",
        "        def power_iteration(W, u):\n",
        "            #Accroding the paper, we only need to do power iteration one time.\n",
        "            _u = u\n",
        "            _v = _l2normalize(K.dot(_u, K.transpose(W)))\n",
        "            _u = _l2normalize(K.dot(_v, W))\n",
        "            return _u, _v\n",
        "        #Spectral Normalization\n",
        "        W_shape = self.kernel.shape.as_list()\n",
        "        #Flatten the Tensor\n",
        "        W_reshaped = K.reshape(self.kernel, [-1, W_shape[-1]])\n",
        "        _u, _v = power_iteration(W_reshaped, self.u)\n",
        "        #Calculate Sigma\n",
        "        sigma=K.dot(_v, W_reshaped)\n",
        "        sigma=K.dot(sigma, K.transpose(_u))\n",
        "        #normalize it\n",
        "        W_bar = W_reshaped / sigma\n",
        "        #reshape weight tensor\n",
        "        if not training:\n",
        "            W_bar = K.reshape(W_bar, W_shape)\n",
        "        else:\n",
        "            with tf.control_dependencies([self.u.assign(_u)]):\n",
        "                W_bar = K.reshape(W_bar, W_shape)\n",
        "                \n",
        "        outputs = K.conv1d(\n",
        "                inputs,\n",
        "                W_bar,\n",
        "                strides=self.strides,\n",
        "                padding=self.padding,\n",
        "                data_format=self.data_format,\n",
        "                dilation_rate=self.dilation_rate)\n",
        "        if self.use_bias:\n",
        "            outputs = K.bias_add(\n",
        "                outputs,\n",
        "                self.bias,\n",
        "                data_format=self.data_format)\n",
        "        if self.activation is not None:\n",
        "            return self.activation(outputs)\n",
        "        return outputs\n",
        "\n",
        "class SelfAttention(tf.keras.layers.Layer):\n",
        "    def __init__(self, **kwargs):\n",
        "      super().__init__()\n",
        "      self.channels = kwargs['channels']\n",
        "      self.one_eights_conv = None\n",
        "      self.one_second_conv = None\n",
        "      self.max_pooling_0 = None\n",
        "      self.max_pooling_1 = None\n",
        "      self.attention = None\n",
        "      self.final_conv = None\n",
        "      pass\n",
        "\n",
        "    def build(self, input_shape):\n",
        "      if self.one_eights_conv is None:\n",
        "        self.one_eights_conv = layers.Conv1D(self.channels // 8, 1, strides=1, padding='same',\n",
        "                                kernel_initializer='glorot_uniform')\n",
        "      if self.one_second_conv is None:\n",
        "        self.one_second_conv = layers.Conv1D(self.channels // 2, 1, strides=1, padding='same',\n",
        "                                kernel_initializer='glorot_uniform')\n",
        "      if self.max_pooling_0 is None:\n",
        "        self.max_pooling_0 = layers.MaxPooling1D(pool_size=2, strides=2, padding='same')\n",
        "      if self.max_pooling_1 is None:\n",
        "        self.max_pooling_1 = layers.MaxPooling1D(pool_size=2, strides=2, padding='same')\n",
        "      if self.attention is None:\n",
        "        self.attention = layers.Attention(use_scale=True)\n",
        "      if self.final_conv is None:\n",
        "        self.final_conv = ConvSN1D(self.channels, 1, strides=1)\n",
        "\n",
        "    def call(self, x, training=None):\n",
        "      batch_size, width, num_channels = x.get_shape().as_list()\n",
        "      g = self.one_eights_conv(x, training=training)  # [bs, w, c']\n",
        "      f = self.max_pooling_0(g)\n",
        "      h = self.one_second_conv(x, training=training)  # [bs, w, c]\n",
        "      h = self.max_pooling_1(h)\n",
        "      o = self.attention([g, h, f])\n",
        "      \n",
        "      o = self.final_conv(o, training=training)\n",
        "      x = o + x\n",
        "      return x\n",
        "\n",
        "class GlobalSumPooling1D(tf.keras.layers.Layer):\n",
        "\tdef __init__(self, **kwargs):\n",
        "\t\tsuper().__init__()\n",
        "\t\tpass\n",
        "\n",
        "\tdef call(self, inputs):\n",
        "\t\treturn K.sum(inputs, axis=1)\n"
      ],
      "execution_count": null,
      "outputs": []
    },
    {
      "cell_type": "code",
      "source": [
        ""
      ],
      "metadata": {
        "id": "F8CNr_imTs9l"
      },
      "execution_count": null,
      "outputs": []
    },
    {
      "cell_type": "markdown",
      "metadata": {
        "id": "6TBLqvn34EMm"
      },
      "source": [
        "## Mendelian hybridizer Def\n"
      ]
    },
    {
      "cell_type": "code",
      "metadata": {
        "id": "4yu8Gp_LJ-Mc"
      },
      "source": [
        "rng = np.random.default_rng()\n",
        "def shuffleR(block):\n",
        "  shuffled = block\n",
        "  rng.shuffle(shuffled,axis=0)\n",
        "  return shuffled\n",
        "#Blocks "
      ],
      "execution_count": null,
      "outputs": []
    },
    {
      "cell_type": "code",
      "metadata": {
        "id": "neR2kRWcLNGw"
      },
      "source": [
        "def semi_block_synR(block:np.array, fold:int):\n",
        "  semi_block_syn = block\n",
        "  for i in range (1,fold): \n",
        "    semi_block_syn = np.vstack((semi_block_syn, shuffleR(block)))\n",
        "  return semi_block_syn"
      ],
      "execution_count": null,
      "outputs": []
    },
    {
      "cell_type": "code",
      "metadata": {
        "id": "dWN9n1GZ08kP"
      },
      "source": [
        "def semi_syn_R(blocks:list,fold:int):\n",
        "  semi_syn= np.empty(shape=(fold*blocks[0].shape[0],0))\n",
        "  for block in blocks:\n",
        "    semi_syn = np.hstack(( semi_syn, semi_block_synR(block=block,fold=fold) )) \n",
        "  return semi_syn"
      ],
      "execution_count": null,
      "outputs": []
    },
    {
      "cell_type": "markdown",
      "source": [
        "## first Mendelian hybridizer "
      ],
      "metadata": {
        "id": "eJjH7KEwP_SQ"
      }
    },
    {
      "cell_type": "code",
      "metadata": {
        "id": "Rl6kHsQoTh2p"
      },
      "source": [
        "#EAS\n",
        "D_t_SemiSyn_EAS_1 = semi_syn_R((D_t_real_EAS_bb1,\n",
        "                               D_t_real_EAS_bb2,\n",
        "                               D_t_real_EAS_bb3,\n",
        "                               D_t_real_EAS_bb4,\n",
        "                               D_t_real_EAS_bb5,\n",
        "                               D_t_real_EAS_bb6,\n",
        "                               D_t_real_EAS_bb7),\n",
        "                              4)\n",
        "D_t_semisyn_EAS_1 = np.vstack((D_t_real_EAS,D_t_SemiSyn_EAS_1))\n",
        "# #AMR\n",
        "# D_t_SemiSyn_AMR_1 = semi_syn_R((D_t_real_AMR_bb1,\n",
        "#                                D_t_real_AMR_bb2,\n",
        "#                                D_t_real_AMR_bb3,\n",
        "#                                D_t_real_AMR_bb4,\n",
        "#                                D_t_real_AMR_bb5,\n",
        "#                                D_t_real_AMR_bb6,\n",
        "#                                D_t_real_AMR_bb7),\n",
        "#                               4)\n",
        "# D_t_semisyn_AMR_1 = np.vstack((D_t_real_AMR,D_t_SemiSyn_AMR_1))\n",
        "# #EUR\n",
        "# D_t_SemiSyn_EUR_1 = semi_syn_R((D_t_real_EUR_bb1,\n",
        "#                                D_t_real_EUR_bb2,\n",
        "#                                D_t_real_EUR_bb3,\n",
        "#                                D_t_real_EUR_bb4,\n",
        "#                                D_t_real_EUR_bb5,\n",
        "#                                D_t_real_EUR_bb6,\n",
        "#                                D_t_real_EUR_bb7),\n",
        "#                               4)\n",
        "# D_t_semisyn_EUR_1 = np.vstack((D_t_real_EUR,D_t_SemiSyn_EUR_1))\n",
        "\n",
        "#AFR\n",
        "D_t_SemiSyn_AFR_1 = semi_syn_R((D_t_real_AFR_bb1,\n",
        "                               D_t_real_AFR_bb2,\n",
        "                               D_t_real_AFR_bb3,\n",
        "                               D_t_real_AFR_bb4,\n",
        "                               D_t_real_AFR_bb5,\n",
        "                               D_t_real_AFR_bb6,\n",
        "                               D_t_real_AFR_bb7),\n",
        "                              4)\n",
        "D_t_semisyn_AFR_1 = np.vstack((D_t_real_AFR,D_t_SemiSyn_AFR_1))\n",
        "#SAS\n",
        "D_t_SemiSyn_SAS_1 = semi_syn_R((D_t_real_SAS_bb1,\n",
        "                               D_t_real_SAS_bb2,\n",
        "                               D_t_real_SAS_bb3,\n",
        "                               D_t_real_SAS_bb4,\n",
        "                               D_t_real_SAS_bb5,\n",
        "                               D_t_real_SAS_bb6,\n",
        "                               D_t_real_SAS_bb7),\n",
        "                              4)\n",
        "D_t_semisyn_SAS_1 = np.vstack((D_t_real_SAS,D_t_SemiSyn_SAS_1))\n",
        "\n",
        "np.save(\"D_t_semisyn_EAS_1.npy\",D_t_semisyn_EAS_1)\n",
        "!cp D_t_semisyn_EAS_1.npy \"/content/drive/MyDrive/X_Shi_Lab/Data_HLA/\"\n",
        "np.save(\"D_t_semisyn_AMR_1.npy\",D_t_semisyn_AMR_1)\n",
        "!cp D_t_semisyn_AMR_1.npy \"/content/drive/MyDrive/X_Shi_Lab/Data_HLA/\"\n",
        "np.save(\"D_t_semisyn_EUR_1.npy\",D_t_semisyn_EUR_1)\n",
        "!cp D_t_semisyn_EUR_1.npy \"/content/drive/MyDrive/X_Shi_Lab/Data_HLA/\"\n",
        "np.save(\"D_t_semisyn_AFR_1.npy\",D_t_semisyn_AFR_1)\n",
        "!cp D_t_semisyn_AFR_1.npy \"/content/drive/MyDrive/X_Shi_Lab/Data_HLA/\"\n",
        "np.save(\"D_t_semisyn_SAS_1.npy\",D_t_semisyn_SAS_1)\n",
        "!cp D_t_semisyn_SAS_1.npy \"/content/drive/MyDrive/X_Shi_Lab/Data_HLA/\""
      ],
      "execution_count": null,
      "outputs": []
    },
    {
      "cell_type": "markdown",
      "source": [
        "## Use Mendelian hybridizer output as input of Discriminator"
      ],
      "metadata": {
        "id": "L-31lGUWTLxc"
      }
    },
    {
      "cell_type": "code",
      "source": [
        "D_t_semisyn_1 = np.vstack((D_t_semisyn_EAS_1,D_real_AMR,D_real_EUR,D_t_semisyn_AFR_1,D_t_semisyn_SAS_1))\n",
        "X = D_t_semisyn_1[:,0:7160]\n",
        "X = to_categorical(X)\n",
        "Y = D_t_semisyn_1[:,-1]\n",
        "dataset = (X,Y)"
      ],
      "metadata": {
        "id": "Qw8Jx7EGTaSV"
      },
      "execution_count": null,
      "outputs": []
    },
    {
      "cell_type": "markdown",
      "metadata": {
        "id": "QNl6b_qn4LuQ"
      },
      "source": [
        "## Generator"
      ]
    },
    {
      "cell_type": "code",
      "metadata": {
        "id": "0arDhrD1907L"
      },
      "source": [
        "# tf.keras.backend.clear_session()"
      ],
      "execution_count": null,
      "outputs": []
    },
    {
      "cell_type": "code",
      "metadata": {
        "id": "YbIht4ck4LuS"
      },
      "source": [
        "def make_generator_model():\n",
        "  noise = layers.Input(shape=(noise_dim,))\n",
        "    \n",
        "  label = layers.Input(shape=(1,))\n",
        "  label_embedding = layers.Flatten()(layers.Embedding(num_classes, noise_dim)(label))\n",
        "\n",
        "  model_input = layers.multiply([noise, label_embedding])\n",
        "\n",
        "  x = layers.Dense(1790 * 256, use_bias=False, input_shape=(noise_dim, ))(model_input)\n",
        "  \n",
        "  \n",
        "  x = layers.Reshape((1790, 256))(x)\n",
        "  x = layers.Dropout(0.3)(x)\n",
        "  x = layers.BatchNormalization(epsilon=2e-5, momentum=9e-1)(x)\n",
        "  # x = tf.nn.gelu(x,approximate=False)\n",
        "  x = layers.LeakyReLU()(x)\n",
        "  x = layers.Dropout(0.3)(x)\n",
        "  x = layers.Conv1D(256, 7,\n",
        "                      strides=1,\n",
        "                      padding='same', use_bias=False, kernel_initializer='glorot_uniform')(x)\n",
        "  x = layers.UpSampling1D(2)(x)\n",
        "  x = layers.BatchNormalization(epsilon=2e-5, momentum=9e-1)(x)\n",
        "  # x = tf.nn.gelu(x,approximate=False)\n",
        "  x = layers.LeakyReLU()(x)\n",
        "  x = layers.Dropout(0.4)(x)\n",
        "  \n",
        "  x = layers.Conv1D(128, 5,\n",
        "                      strides=1,\n",
        "                      padding='same', use_bias=False, kernel_initializer='glorot_uniform')(x)\n",
        "  x = layers.UpSampling1D(2)(x)\n",
        "  x = layers.BatchNormalization(epsilon=2e-5, momentum=9e-1)(x)\n",
        "  # x = tf.nn.gelu(x,approximate=False)\n",
        "  x = layers.LeakyReLU()(x)\n",
        "  x = layers.Dropout(0.5)(x)\n",
        "\n",
        "\n",
        "\n",
        "  x = layers.Conv1D(channels, 5,\n",
        "                               strides=1,\n",
        "                               padding='same',\n",
        "                               activation='softmax'\n",
        "                               )(x)\n",
        "\n",
        "  return Model([noise, label], x)\n",
        "\n",
        "# plot_model(make_generator_model(), show_shapes=True, show_layer_names=True)"
      ],
      "execution_count": null,
      "outputs": []
    },
    {
      "cell_type": "code",
      "metadata": {
        "id": "C0VKq2GE4LuW"
      },
      "source": [
        "tf.keras.backend.clear_session()\n",
        "generator = make_generator_model()\n",
        "\n",
        "noise = tf.random.normal([1, 100])\n",
        "label = np.random.randint(0, 4, (1, ))\n",
        "generated_genotype = generator([noise, label], training=False)\n",
        "\n",
        "# plt.imshow(np.argmax(generated_genotype, axis=2).reshape(179,40,), cmap=plt.get_cmap(\"BuPu_r\"))\n",
        "# plt.title('label: {}'.format(label))"
      ],
      "execution_count": null,
      "outputs": []
    },
    {
      "cell_type": "code",
      "metadata": {
        "colab": {
          "base_uri": "https://localhost:8080/"
        },
        "id": "yvatob7UMKxk",
        "outputId": "022ca774-2e02-4f7a-aa9f-4fd68323d219"
      },
      "source": [
        "generator.summary()\n",
        "generated_genotype"
      ],
      "execution_count": null,
      "outputs": [
        {
          "output_type": "stream",
          "name": "stdout",
          "text": [
            "Model: \"model\"\n",
            "__________________________________________________________________________________________________\n",
            " Layer (type)                   Output Shape         Param #     Connected to                     \n",
            "==================================================================================================\n",
            " input_2 (InputLayer)           [(None, 1)]          0           []                               \n",
            "                                                                                                  \n",
            " embedding (Embedding)          (None, 1, 100)       500         ['input_2[0][0]']                \n",
            "                                                                                                  \n",
            " input_1 (InputLayer)           [(None, 100)]        0           []                               \n",
            "                                                                                                  \n",
            " flatten (Flatten)              (None, 100)          0           ['embedding[0][0]']              \n",
            "                                                                                                  \n",
            " multiply (Multiply)            (None, 100)          0           ['input_1[0][0]',                \n",
            "                                                                  'flatten[0][0]']                \n",
            "                                                                                                  \n",
            " dense (Dense)                  (None, 458240)       45824000    ['multiply[0][0]']               \n",
            "                                                                                                  \n",
            " reshape (Reshape)              (None, 1790, 256)    0           ['dense[0][0]']                  \n",
            "                                                                                                  \n",
            " dropout (Dropout)              (None, 1790, 256)    0           ['reshape[0][0]']                \n",
            "                                                                                                  \n",
            " batch_normalization (BatchNorm  (None, 1790, 256)   1024        ['dropout[0][0]']                \n",
            " alization)                                                                                       \n",
            "                                                                                                  \n",
            " leaky_re_lu (LeakyReLU)        (None, 1790, 256)    0           ['batch_normalization[0][0]']    \n",
            "                                                                                                  \n",
            " dropout_1 (Dropout)            (None, 1790, 256)    0           ['leaky_re_lu[0][0]']            \n",
            "                                                                                                  \n",
            " conv1d (Conv1D)                (None, 1790, 256)    458752      ['dropout_1[0][0]']              \n",
            "                                                                                                  \n",
            " up_sampling1d (UpSampling1D)   (None, 3580, 256)    0           ['conv1d[0][0]']                 \n",
            "                                                                                                  \n",
            " batch_normalization_1 (BatchNo  (None, 3580, 256)   1024        ['up_sampling1d[0][0]']          \n",
            " rmalization)                                                                                     \n",
            "                                                                                                  \n",
            " leaky_re_lu_1 (LeakyReLU)      (None, 3580, 256)    0           ['batch_normalization_1[0][0]']  \n",
            "                                                                                                  \n",
            " dropout_2 (Dropout)            (None, 3580, 256)    0           ['leaky_re_lu_1[0][0]']          \n",
            "                                                                                                  \n",
            " conv1d_1 (Conv1D)              (None, 3580, 128)    163840      ['dropout_2[0][0]']              \n",
            "                                                                                                  \n",
            " up_sampling1d_1 (UpSampling1D)  (None, 7160, 128)   0           ['conv1d_1[0][0]']               \n",
            "                                                                                                  \n",
            " batch_normalization_2 (BatchNo  (None, 7160, 128)   512         ['up_sampling1d_1[0][0]']        \n",
            " rmalization)                                                                                     \n",
            "                                                                                                  \n",
            " leaky_re_lu_2 (LeakyReLU)      (None, 7160, 128)    0           ['batch_normalization_2[0][0]']  \n",
            "                                                                                                  \n",
            " dropout_3 (Dropout)            (None, 7160, 128)    0           ['leaky_re_lu_2[0][0]']          \n",
            "                                                                                                  \n",
            " conv1d_2 (Conv1D)              (None, 7160, 4)      2564        ['dropout_3[0][0]']              \n",
            "                                                                                                  \n",
            "==================================================================================================\n",
            "Total params: 46,452,216\n",
            "Trainable params: 46,450,936\n",
            "Non-trainable params: 1,280\n",
            "__________________________________________________________________________________________________\n"
          ]
        },
        {
          "output_type": "execute_result",
          "data": {
            "text/plain": [
              "<tf.Tensor: shape=(1, 7160, 4), dtype=float32, numpy=\n",
              "array([[[0.249972  , 0.25001547, 0.2500359 , 0.24997665],\n",
              "        [0.24994954, 0.24997212, 0.25003994, 0.25003836],\n",
              "        [0.24998331, 0.24994254, 0.25004363, 0.2500305 ],\n",
              "        ...,\n",
              "        [0.2499685 , 0.25002283, 0.2500021 , 0.25000662],\n",
              "        [0.24995899, 0.25002426, 0.25002003, 0.24999674],\n",
              "        [0.25000095, 0.24997878, 0.25002298, 0.24999727]]], dtype=float32)>"
            ]
          },
          "metadata": {},
          "execution_count": 8
        }
      ]
    },
    {
      "cell_type": "code",
      "metadata": {
        "id": "8SrbJzMBVP6t",
        "colab": {
          "base_uri": "https://localhost:8080/",
          "height": 1000
        },
        "outputId": "968bfcc3-be36-42cf-9452-18559ce0d1ab"
      },
      "source": [
        "tf.keras.utils.plot_model(\n",
        "    generator, to_file='Generator.png', show_shapes=True, show_dtype=False,\n",
        "    show_layer_names=True, rankdir='TB', expand_nested=False, dpi=96\n",
        ")"
      ],
      "execution_count": null,
      "outputs": [
        {
          "output_type": "execute_result",
          "data": {
            "image/png": "[encoded data removed]",
            "text/plain": [
              "<IPython.core.display.Image object>"
            ]
          },
          "metadata": {},
          "execution_count": 9
        }
      ]
    },
    {
      "cell_type": "markdown",
      "metadata": {
        "id": "TzyrknUx4LuZ"
      },
      "source": [
        "## Discriminator"
      ]
    },
    {
      "cell_type": "code",
      "metadata": {
        "id": "P38rAwEc4LuZ"
      },
      "source": [
        "def make_discriminator_model():\n",
        "  const = ClipConstraint(0.01)\n",
        "  genotype = layers.Input(shape=genotype_shape)\n",
        "  label = layers.Input(shape=(1, ), dtype='int32')\n",
        "\n",
        "  flat_genotype = layers.Flatten()(genotype)\n",
        "  label_embedding = layers.Flatten()(layers.Embedding(num_classes, genotype_len * channels)(label))\n",
        "\n",
        "  model_input = layers.multiply([flat_genotype, label_embedding])\n",
        "  model_input = layers.Reshape((genotype_len, channels))(model_input)\n",
        "\n",
        "  x = layers.LeakyReLU()(model_input)\n",
        "  x = layers.Dropout(0.3)(x)\n",
        "\n",
        "  x = layers.Conv1D(64, 5, strides=2, padding='same', kernel_constraint=const,\n",
        "                              kernel_initializer='glorot_uniform')(x)\n",
        "  x = layers.LeakyReLU()(x)\n",
        "  x = layers.Dropout(0.3)(x)\n",
        " \n",
        "  \n",
        "  x = layers.Conv1D(128, 7, strides=2, padding='same', kernel_constraint=const,\n",
        "                              kernel_initializer='glorot_uniform')(x)\n",
        "  x = layers.LeakyReLU()(x)\n",
        "  x = layers.Dropout(0.3)(x)\n",
        "  \n",
        "  x = layers.Flatten()(x)\n",
        "  x = layers.Dropout(0.3)(x)\n",
        "  x = layers.Dense(512, kernel_initializer='glorot_uniform')(x)\n",
        "  x = layers.LeakyReLU()(x)\n",
        "  x = layers.Dense(1, kernel_initializer='glorot_uniform')(x)\n",
        "\n",
        "  return Model([genotype, label], x)\n"
      ],
      "execution_count": null,
      "outputs": []
    },
    {
      "cell_type": "code",
      "metadata": {
        "scrolled": true,
        "id": "f1JhXwQR4Lub",
        "colab": {
          "base_uri": "https://localhost:8080/"
        },
        "outputId": "0737beaf-f206-4a47-e5a9-206758b08ffb"
      },
      "source": [
        "# Use the (as yet untrained) discriminator \n",
        "# to classify the generated images as real or fake.\n",
        "discriminator = make_discriminator_model()\n",
        "\n",
        "decision = discriminator([generated_genotype, label])\n",
        "print(decision)"
      ],
      "execution_count": null,
      "outputs": [
        {
          "output_type": "stream",
          "name": "stdout",
          "text": [
            "tf.Tensor([[0.00090181]], shape=(1, 1), dtype=float32)\n"
          ]
        }
      ]
    },
    {
      "cell_type": "code",
      "metadata": {
        "colab": {
          "base_uri": "https://localhost:8080/"
        },
        "id": "lLfKH93nViOx",
        "outputId": "701584ce-454b-415d-bf41-b41a7bc2f62c"
      },
      "source": [
        "discriminator.summary()"
      ],
      "execution_count": null,
      "outputs": [
        {
          "output_type": "stream",
          "name": "stdout",
          "text": [
            "Model: \"model_1\"\n",
            "__________________________________________________________________________________________________\n",
            " Layer (type)                   Output Shape         Param #     Connected to                     \n",
            "==================================================================================================\n",
            " input_4 (InputLayer)           [(None, 1)]          0           []                               \n",
            "                                                                                                  \n",
            " input_3 (InputLayer)           [(None, 7160, 4)]    0           []                               \n",
            "                                                                                                  \n",
            " embedding_1 (Embedding)        (None, 1, 28640)     143200      ['input_4[0][0]']                \n",
            "                                                                                                  \n",
            " flatten_1 (Flatten)            (None, 28640)        0           ['input_3[0][0]']                \n",
            "                                                                                                  \n",
            " flatten_2 (Flatten)            (None, 28640)        0           ['embedding_1[0][0]']            \n",
            "                                                                                                  \n",
            " multiply_1 (Multiply)          (None, 28640)        0           ['flatten_1[0][0]',              \n",
            "                                                                  'flatten_2[0][0]']              \n",
            "                                                                                                  \n",
            " reshape_1 (Reshape)            (None, 7160, 4)      0           ['multiply_1[0][0]']             \n",
            "                                                                                                  \n",
            " leaky_re_lu_3 (LeakyReLU)      (None, 7160, 4)      0           ['reshape_1[0][0]']              \n",
            "                                                                                                  \n",
            " dropout_4 (Dropout)            (None, 7160, 4)      0           ['leaky_re_lu_3[0][0]']          \n",
            "                                                                                                  \n",
            " conv1d_3 (Conv1D)              (None, 3580, 64)     1344        ['dropout_4[0][0]']              \n",
            "                                                                                                  \n",
            " leaky_re_lu_4 (LeakyReLU)      (None, 3580, 64)     0           ['conv1d_3[0][0]']               \n",
            "                                                                                                  \n",
            " dropout_5 (Dropout)            (None, 3580, 64)     0           ['leaky_re_lu_4[0][0]']          \n",
            "                                                                                                  \n",
            " conv1d_4 (Conv1D)              (None, 1790, 128)    57472       ['dropout_5[0][0]']              \n",
            "                                                                                                  \n",
            " leaky_re_lu_5 (LeakyReLU)      (None, 1790, 128)    0           ['conv1d_4[0][0]']               \n",
            "                                                                                                  \n",
            " dropout_6 (Dropout)            (None, 1790, 128)    0           ['leaky_re_lu_5[0][0]']          \n",
            "                                                                                                  \n",
            " flatten_3 (Flatten)            (None, 229120)       0           ['dropout_6[0][0]']              \n",
            "                                                                                                  \n",
            " dropout_7 (Dropout)            (None, 229120)       0           ['flatten_3[0][0]']              \n",
            "                                                                                                  \n",
            " dense_1 (Dense)                (None, 512)          117309952   ['dropout_7[0][0]']              \n",
            "                                                                                                  \n",
            " leaky_re_lu_6 (LeakyReLU)      (None, 512)          0           ['dense_1[0][0]']                \n",
            "                                                                                                  \n",
            " dense_2 (Dense)                (None, 1)            513         ['leaky_re_lu_6[0][0]']          \n",
            "                                                                                                  \n",
            "==================================================================================================\n",
            "Total params: 117,512,481\n",
            "Trainable params: 117,512,481\n",
            "Non-trainable params: 0\n",
            "__________________________________________________________________________________________________\n"
          ]
        }
      ]
    },
    {
      "cell_type": "code",
      "metadata": {
        "id": "ZRhqYrCCVjgM",
        "colab": {
          "base_uri": "https://localhost:8080/",
          "height": 1000
        },
        "outputId": "00ab5a62-d7fa-4fa4-aa25-09ef4f7e0e9f"
      },
      "source": [
        "tf.keras.utils.plot_model(\n",
        "    discriminator, to_file='Denerator.png', show_shapes=True, show_dtype=False,\n",
        "    show_layer_names=True, rankdir='TB', expand_nested=False, dpi=96\n",
        ")"
      ],
      "execution_count": null,
      "outputs": [
        {
          "output_type": "execute_result",
          "data": {
            "image/png": "[encoded data removed]",
            "text/plain": [
              "<IPython.core.display.Image object>"
            ]
          },
          "metadata": {},
          "execution_count": 13
        }
      ]
    },
    {
      "cell_type": "markdown",
      "metadata": {
        "id": "JPkRMOdi4Luc"
      },
      "source": [
        "## Loss"
      ]
    },
    {
      "cell_type": "markdown",
      "source": [
        "Do not use wasserstein loss here, it doesn't help. \\"
      ],
      "metadata": {
        "id": "HiW9Fv0fa_gi"
      }
    },
    {
      "cell_type": "code",
      "metadata": {
        "id": "C6EVySLx4Lug"
      },
      "source": [
        "# Hinge loss\n",
        "hinge_loss = tf.keras.losses.Hinge()\n",
        "def discriminator_loss(real_output, fake_output):\n",
        "    real_loss = hinge_loss(tf.ones_like(real_output), real_output)\n",
        "    fake_loss = hinge_loss(tf.math.negative(tf.ones_like(fake_output)), fake_output)\n",
        "    total_loss = real_loss + fake_loss\n",
        "    return total_loss \n",
        "def generator_loss(fake_output):\n",
        "    return hinge_loss(tf.ones_like(fake_output), fake_output)\n",
        "\n",
        "# def discriminator_accuracy(real_output, fake_output):\n",
        "#     real_acc = tf.keras.metrics.binary_accuracy(tf.ones_like(real_output), real_output)\n",
        "#     fake_acc = tf.keras.metrics.binary_accuracy(tf.math.negative(tf.ones_like(fake_output)), fake_output)\n",
        "#     return real_acc, fake_acc"
      ],
      "execution_count": null,
      "outputs": []
    },
    {
      "cell_type": "markdown",
      "metadata": {
        "id": "Y0ZSxcba4Lui"
      },
      "source": [
        "## Optimizer"
      ]
    },
    {
      "cell_type": "code",
      "metadata": {
        "id": "tlSE1u3f4Lui"
      },
      "source": [
        "BETA_1 = 0.5\n",
        "BETA_2 = 0.9\n",
        "generator_optimizer = tf.keras.optimizers.Adam(1e-4, beta_1=BETA_1, beta_2=BETA_2, amsgrad=True)\n",
        "discriminator_optimizer=tf.keras.optimizers.Adam(1e-4, beta_1=BETA_1, beta_2=BETA_2, amsgrad=True)"
      ],
      "execution_count": null,
      "outputs": []
    },
    {
      "cell_type": "markdown",
      "metadata": {
        "id": "2sSm7tuQXAzv"
      },
      "source": [
        "## Train Step and Save image, check points"
      ]
    },
    {
      "cell_type": "code",
      "metadata": {
        "id": "bPvElozyXDnJ"
      },
      "source": [
        "num_examples_to_generate = num_classes"
      ],
      "execution_count": null,
      "outputs": []
    },
    {
      "cell_type": "code",
      "metadata": {
        "id": "Q2rxmcACXF0l"
      },
      "source": [
        "noise = tf.random.normal([num_examples_to_generate, noise_dim])\n",
        "label = np.array([0,\n",
        "                  1,\n",
        "                  2,\n",
        "                  3,\n",
        "                  4,])\n",
        "seed = [noise, label]"
      ],
      "execution_count": null,
      "outputs": []
    },
    {
      "cell_type": "code",
      "metadata": {
        "id": "5eIc3N13XJLU"
      },
      "source": [
        "# Notice the use of `tf.function`\n",
        "# This annotation causes the function to be \"compiled\".\n",
        "@tf.function\n",
        "def train_step(batch_size, genotypes, labels):\n",
        "    # noise = tf.random.normal([batch_size, noise_dim])\n",
        "    # train disc\n",
        "    for _ in range(4):\n",
        "        noise = tf.random.normal([batch_size, noise_dim])\n",
        "        with tf.GradientTape() as disc_tape:\n",
        "          generated_genotypes = generator([noise, labels], training=False)\n",
        "\n",
        "          real_output = discriminator([genotypes, labels], training=True)\n",
        "          fake_output = discriminator([generated_genotypes, labels], training=True)\n",
        "          \n",
        "          disc_loss = discriminator_loss(real_output, fake_output) \n",
        "          \n",
        "          gradients_of_discriminator = disc_tape.gradient(disc_loss, discriminator.trainable_variables)\n",
        "        \n",
        "        discriminator_optimizer.apply_gradients(zip(gradients_of_discriminator, discriminator.trainable_variables))\n",
        "\n",
        "    # train both\n",
        "    noise = tf.random.normal([batch_size, noise_dim])\n",
        "    with tf.GradientTape() as gen_tape, tf.GradientTape() as disc_tape:\n",
        "        generated_genotypes = generator([noise, labels], training=True)\n",
        "\n",
        "        real_output = discriminator([genotypes, labels], training=True)\n",
        "        fake_output = discriminator([generated_genotypes, labels], training=True)\n",
        "        \n",
        "        gen_loss = generator_loss(fake_output) \n",
        "        disc_loss = discriminator_loss(real_output, fake_output) \n",
        "        \n",
        "        gradients_of_generator = gen_tape.gradient(gen_loss, generator.trainable_variables)\n",
        "        gradients_of_discriminator = disc_tape.gradient(disc_loss, discriminator.trainable_variables)\n",
        "    \n",
        "    generator_optimizer.apply_gradients(zip(gradients_of_generator, generator.trainable_variables))\n",
        "    discriminator_optimizer.apply_gradients(zip(gradients_of_discriminator, discriminator.trainable_variables))\n",
        "    \n",
        "    return gen_loss, disc_loss"
      ],
      "execution_count": null,
      "outputs": []
    },
    {
      "cell_type": "code",
      "metadata": {
        "id": "rsR54ow8YJM0"
      },
      "source": [
        "def generate_and_save_images(model, epoch, test_input):\n",
        "    # Notice `training` is set to False.\n",
        "    # This is so all layers run in inference mode (batchnorm).\n",
        "    predictions = model(test_input, training=False)\n",
        "\n",
        "    plt.figure()\n",
        "    for i in range(predictions.shape[0]):\n",
        "        plt.subplot(1, 5, i + 1)\n",
        "        plt.imshow(np.argmax(predictions[i,:,:],axis=1).reshape(179,40), cmap=plt.get_cmap(\"BuPu_r\"))\n",
        "        plt.title('label: {}'.format(test_input[1][i]))\n",
        "        plt.axis('off')\n",
        "  \n",
        "    plt.savefig('/content/drive/MyDrive/X_Shi_Lab/SemX/SAGAN1/m0t1/full-image_at_epoch_{:04d}.png'.format(epoch))\n",
        "    plt.show()"
      ],
      "execution_count": null,
      "outputs": []
    },
    {
      "cell_type": "code",
      "metadata": {
        "id": "LMy_hUCX0NpO"
      },
      "source": [
        "def train(dataset, epochs, batch_size):\n",
        "    gen_loss_log, disc_loss_log = [], []\n",
        "\n",
        "    for epoch in range(epochs):\n",
        "        start = time.time()\n",
        "        \n",
        "        # shuffle and batch the data\n",
        "        train_dataset = tf.data.Dataset.from_tensor_slices(dataset).shuffle(\n",
        "            X.shape[0]).batch(batch_size, drop_remainder=True)\n",
        "\n",
        "        # gen_loss_list, disc_loss_list = [], []\n",
        "        for genotype_batch, label_batch in train_dataset:\n",
        "            gen_loss, disc_loss = train_step(batch_size, genotype_batch, label_batch)\n",
        "\n",
        "        # append loss of last batch\n",
        "        gen_loss_log.append(gen_loss.numpy())\n",
        "        disc_loss_log.append(disc_loss.numpy())\n",
        "\n",
        "        # Produce images for the GIF as we go\n",
        "        if (epoch + 1) % 25 == 0:\n",
        "            generate_and_save_images(generator, epoch + 1, seed)\n",
        "\n",
        "        # Save the model \n",
        "        if (epoch + 1) % 25 == 0:\n",
        "            checkpoint.save(file_prefix=checkpoint_prefix)\n",
        "\n",
        "        print('gen_loss: {}, disc_loss: {}'.format(gen_loss.numpy(), disc_loss.numpy()))\n",
        "        print('Time for epoch {} is {} sec'.format(epoch + 1, time.time() - start))\n",
        "\n",
        "    return gen_loss_log, disc_loss_log"
      ],
      "execution_count": null,
      "outputs": []
    },
    {
      "cell_type": "markdown",
      "source": [
        "## Training"
      ],
      "metadata": {
        "id": "bSM1Z4UMUEtk"
      }
    },
    {
      "cell_type": "code",
      "source": [
        "# !mkdir \"/content/drive/MyDrive/X_Shi_Lab/SemX/SAGAN1\"\n",
        "# !mkdir \"/content/drive/MyDrive/X_Shi_Lab/SemX/SAGAN1/m0t1\"\n",
        "\n",
        "# !mkdir \"/content/drive/MyDrive/X_Shi_Lab/SemX/SAGAN1/m0t1/tc\"\n",
        "# !mkdir \"/content/drive/MyDrive/X_Shi_Lab/SemX/SAGAN1/m0t1/model\"\n",
        "# !mkdir \"/content/drive/MyDrive/X_Shi_Lab/SemX/SAGAN1/m0t1/images\""
      ],
      "metadata": {
        "id": "BadA8uG6UHkA"
      },
      "execution_count": null,
      "outputs": []
    },
    {
      "cell_type": "code",
      "source": [
        "checkpoint_dir = \"/content/drive/MyDrive/X_Shi_Lab/SemX/SAGAN1/m0t1/tc\"\n",
        "checkpoint_prefix = os.path.join(checkpoint_dir, \"full\")\n",
        "checkpoint = tf.train.Checkpoint(generator_optimizer=generator_optimizer,\n",
        "                                 discriminator_optimizer=discriminator_optimizer,\n",
        "                                 generator=generator,\n",
        "                                 discriminator=discriminator)"
      ],
      "metadata": {
        "id": "gFBJZ7CxUO1m"
      },
      "execution_count": null,
      "outputs": []
    },
    {
      "cell_type": "code",
      "source": [
        "predictions = generator(seed, training=False)\n",
        "plt.figure()\n",
        "for i in range(predictions.shape[0]):\n",
        "    plt.subplot(1, 5, i + 1)\n",
        "    plt.imshow(np.argmax(predictions[i,:,:],axis=1).reshape(179,40), cmap=plt.get_cmap(\"BuPu_r\"))\n",
        "    plt.title('label: {}'.format(seed[1][i]))"
      ],
      "metadata": {
        "id": "4yw2-yM9USWN"
      },
      "execution_count": null,
      "outputs": []
    },
    {
      "cell_type": "markdown",
      "source": [
        "Train at least 600 epochs to get fairly good results \\\n",
        "All results for comparison are done in 850 epochs. \\\n",
        "Training was done in GPU of google colab "
      ],
      "metadata": {
        "id": "e8w0hdjZY6L3"
      }
    },
    {
      "cell_type": "code",
      "source": [
        "EPOCHS = 850\n",
        "gen_loss_log, disc_loss_log = train(dataset, epochs=EPOCHS, batch_size=32)\n",
        "checkpoint.save(file_prefix=checkpoint_prefix)"
      ],
      "metadata": {
        "id": "OesE4_P4UUjD"
      },
      "execution_count": null,
      "outputs": []
    },
    {
      "cell_type": "markdown",
      "source": [
        "In Google collab free tier GPU it will not run all 850 epochs in one go, \\\n",
        "you would need to it in multiple session using  checkpoints that is saved from last session.\\\n",
        "This took me 6 different sessions, hence for the 850th epoch it is named as m0t6c12. \\\n",
        "PPO GAN was trained on HPC, so it happened in one session and 850th epoch is named as m0t1c34. \\\n"
      ],
      "metadata": {
        "id": "ndKHvXx4UhlV"
      }
    },
    {
      "cell_type": "markdown",
      "source": [
        "## Trained Generator Output"
      ],
      "metadata": {
        "id": "f_EEkOgtUcC1"
      }
    },
    {
      "cell_type": "code",
      "source": [
        "# load checkpoint\n",
        "checkpoint_dir = \"/content/drive/MyDrive/X_Shi_Lab/SemX/SAGAN1/m0t6/tc\"\n",
        "checkpoint_prefix = os.path.join(checkpoint_dir, \"full\")\n",
        "checkpoint.restore(tf.train.latest_checkpoint(checkpoint_dir))\n",
        "checkpoint.restore('/content/drive/MyDrive/X_Shi_Lab/SemX/SAGAN1/m0t6/tc/full-12')"
      ],
      "metadata": {
        "id": "EyDUy9jgWBVl"
      },
      "execution_count": null,
      "outputs": []
    },
    {
      "cell_type": "code",
      "source": [
        "num_simulated = 2507 # reduce this number if it takes longer but for better approximation of probability distribution bigger number works better. \n",
        "# try 500 above it gives fairly similar result \n",
        "# generator\n",
        "SynX_SAGAN1_m0t6c12 = np.empty((0, 7160), int)\n",
        "SynY_SAGAN1_m0t6c12  = np.empty((0, 1), int)\n",
        "for i in range(num_simulated):\n",
        "    noise = tf.random.normal([1, noise_dim])\n",
        "    # noise = tf.random.uniform([1, noise_dim])\n",
        "    labels = np.random.randint(low=0, high=5, size=(1, ))\n",
        "\n",
        "\n",
        "    genotypes = generator([noise, labels], training=False)\n",
        "\n",
        "    SynX_SAGAN1_m0t6c12  = np.vstack((SynX_SAGAN1_m0t6c12 , np.argmax(genotypes, axis=2)))\n",
        "    SynY_SAGAN1_m0t6c12  = np.vstack((SynY_SAGAN1_m0t6c12 , labels))"
      ],
      "metadata": {
        "id": "v00Xw0gmWEAa"
      },
      "execution_count": null,
      "outputs": []
    },
    {
      "cell_type": "code",
      "source": [
        "np.save(\"SynX_SAGAN1_m0t6c12\",SynX_SAGAN1_m0t6c12)\n",
        "np.save(\"SynY_SAGAN1_m0t6c12\",SynY_SAGAN1_m0t6c12)\n",
        "!cp SynX_SAGAN1_m0t6c12.npy /content/drive/MyDrive/X_Shi_Lab/SemX/SAGAN1/SyntheticData/m0t6c12/\n",
        "!cp SynY_SAGAN1_m0t6c12.npy /content/drive/MyDrive/X_Shi_Lab/SemX/SAGAN1/SyntheticData/m0t6c12/"
      ],
      "metadata": {
        "id": "DCHA9WHHWd3B"
      },
      "execution_count": null,
      "outputs": []
    },
    {
      "cell_type": "markdown",
      "source": [
        "## Use trained Generator's output as input of second Mendelian hybridizer"
      ],
      "metadata": {
        "id": "54ASQzccXDYy"
      }
    },
    {
      "cell_type": "code",
      "source": [
        "#sort by population\n",
        "SynX_SAGAN1_m0t6c12_EAS = np.empty(shape=(0,7160))\n",
        "SynY_SAGAN1_m0t6c12_EAS = np.empty(shape=(0,1))\n",
        "SynX_SAGAN1_m0t6c12_AMR = np.empty(shape=(0,7160))\n",
        "SynY_SAGAN1_m0t6c12_AMR = np.empty(shape=(0,1))\n",
        "SynX_SAGAN1_m0t6c12_EUR = np.empty(shape=(0,7160))\n",
        "SynY_SAGAN1_m0t6c12_EUR = np.empty(shape=(0,1))\n",
        "SynX_SAGAN1_m0t6c12_AFR = np.empty(shape=(0,7160))\n",
        "SynY_SAGAN1_m0t6c12_AFR = np.empty(shape=(0,1))\n",
        "SynX_SAGAN1_m0t6c12_SAS = np.empty(shape=(0,7160))\n",
        "SynY_SAGAN1_m0t6c12_SAS = np.empty(shape=(0,1))\n",
        "for i in range (SynX_SAGAN1_m0t6c12.shape[0]):\n",
        "  if SynD_SAGAN1_m0t6c12.iloc[i][7160]== 0: #'EAS':\n",
        "    SynX_SAGAN1_m0t6c12_EAS= np.vstack((SynX_SAGAN1_m0t6c12_EAS,SynX_SAGAN1_m0t6c12[i]))\n",
        "    SynY_SAGAN1_m0t6c12_EAS= np.vstack((SynY_SAGAN1_m0t6c12_EAS,SynY_SAGAN1_m0t6c12[i])) #This is how stupid I am ! \n",
        "  if SynD_SAGAN1_m0t6c12.iloc[i][7160]== 1: #'AMR':\n",
        "    SynX_SAGAN1_m0t6c12_AMR= np.vstack((SynX_SAGAN1_m0t6c12_AMR,SynX_SAGAN1_m0t6c12[i]))\n",
        "    SynY_SAGAN1_m0t6c12_AMR= np.vstack((SynY_SAGAN1_m0t6c12_AMR,SynY_SAGAN1_m0t6c12[i]))\n",
        "  if SynD_SAGAN1_m0t6c12.iloc[i][7160]==2: #'EUR':\n",
        "    SynX_SAGAN1_m0t6c12_EUR= np.vstack((SynX_SAGAN1_m0t6c12_EUR,SynX_SAGAN1_m0t6c12[i]))\n",
        "    SynY_SAGAN1_m0t6c12_EUR= np.vstack((SynY_SAGAN1_m0t6c12_EUR,SynY_SAGAN1_m0t6c12[i]))\n",
        "  if SynD_SAGAN1_m0t6c12.iloc[i][7160]==3: #'AFR':\n",
        "    SynX_SAGAN1_m0t6c12_AFR= np.vstack((SynX_SAGAN1_m0t6c12_AFR,SynX_SAGAN1_m0t6c12[i]))\n",
        "    SynY_SAGAN1_m0t6c12_AFR= np.vstack((SynY_SAGAN1_m0t6c12_AFR,SynY_SAGAN1_m0t6c12[i]))\n",
        "  if SynD_SAGAN1_m0t6c12.iloc[i][7160]==4: #'SAS':\n",
        "    SynX_SAGAN1_m0t6c12_SAS= np.vstack((SynX_SAGAN1_m0t6c12_SAS,SynX_SAGAN1_m0t6c12[i]))\n",
        "    SynY_SAGAN1_m0t6c12_SAS= np.vstack((SynY_SAGAN1_m0t6c12_SAS,SynY_SAGAN1_m0t6c12[i]))\n",
        "\n",
        "SynD_SAGAN1_m0t6c12_EAS = np.hstack((SynX_SAGAN1_m0t6c12_EAS,SynY_SAGAN1_m0t6c12_EAS))\n",
        "SynD_SAGAN1_m0t6c12_AMR = np.hstack((SynX_SAGAN1_m0t6c12_AMR,SynY_SAGAN1_m0t6c12_AMR))\n",
        "SynD_SAGAN1_m0t6c12_EUR = np.hstack((SynX_SAGAN1_m0t6c12_EUR,SynY_SAGAN1_m0t6c12_EUR))\n",
        "SynD_SAGAN1_m0t6c12_AFR = np.hstack((SynX_SAGAN1_m0t6c12_AFR,SynY_SAGAN1_m0t6c12_AFR))\n",
        "SynD_SAGAN1_m0t6c12_SAS = np.hstack((SynX_SAGAN1_m0t6c12_SAS,SynY_SAGAN1_m0t6c12_SAS))"
      ],
      "metadata": {
        "id": "zdO5hDCeW6RJ"
      },
      "execution_count": null,
      "outputs": []
    },
    {
      "cell_type": "code",
      "source": [
        "SynD_SAGAN1_m0t6c12_EAS_bb1=SynD_SAGAN1_m0t6c12_EAS[:,0:1000]\n",
        "SynD_SAGAN1_m0t6c12_EAS_bb2=SynD_SAGAN1_m0t6c12_EAS[:,1000:2000]\n",
        "SynD_SAGAN1_m0t6c12_EAS_bb3=SynD_SAGAN1_m0t6c12_EAS[:,2000:3000]\n",
        "SynD_SAGAN1_m0t6c12_EAS_bb4=SynD_SAGAN1_m0t6c12_EAS[:,3000:4000]\n",
        "SynD_SAGAN1_m0t6c12_EAS_bb5=SynD_SAGAN1_m0t6c12_EAS[:,4000:5000]\n",
        "SynD_SAGAN1_m0t6c12_EAS_bb6=SynD_SAGAN1_m0t6c12_EAS[:,5000:6000]\n",
        "SynD_SAGAN1_m0t6c12_EAS_bb7=SynD_SAGAN1_m0t6c12_EAS[:,6000:7161]\n",
        "#do same for others\n",
        "SynD_SAGAN1_m0t6c12_SemiSyn_EAS = semi_syn_R((SynD_SAGAN1_m0t6c12_EAS_bb1,\n",
        "                               SynD_SAGAN1_m0t6c12_EAS_bb2,\n",
        "                               SynD_SAGAN1_m0t6c12_EAS_bb3,\n",
        "                               SynD_SAGAN1_m0t6c12_EAS_bb4,\n",
        "                               SynD_SAGAN1_m0t6c12_EAS_bb5,\n",
        "                               SynD_SAGAN1_m0t6c12_EAS_bb6,\n",
        "                               SynD_SAGAN1_m0t6c12_EAS_bb7),\n",
        "                              4)\n",
        "SynD_SAGAN1_m0t6c12_semisyn_EAS = np.vstack((SynD_SAGAN1_m0t6c12_EAS,SynD_SAGAN1_m0t6c12_SemiSyn_EAS))\n",
        "#do same for others\n",
        "SynDss_SAGAN1_m0t6c12= np.vstack((SynD_SAGAN1_m0t6c12_semisyn_EAS,\n",
        "                                 SynD_SAGAN1_m0t6c12_semisyn_AMR,\n",
        "                                 SynD_SAGAN1_m0t6c12_semisyn_EUR,\n",
        "                                 SynD_SAGAN1_m0t6c12_semisyn_AFR,\n",
        "                                 SynD_SAGAN1_m0t6c12_semisyn_SAS))\n",
        "np.save(\"SynDss_SAGAN1_m0t6c12\",SynDss_SAGAN1_m0t6c12)\n",
        "!cp SynDss_SAGAN1_m0t6c12.npy /content/drive/MyDrive/X_Shi_Lab/SemX/SAGAN1/SyntheticData/m0t6c12/"
      ],
      "metadata": {
        "id": "Q84SghE4XVqk"
      },
      "execution_count": null,
      "outputs": []
    },
    {
      "cell_type": "markdown",
      "source": [
        "Output of Offspring GAN is named as SynDss-SAGAN1-m0t6c12 \\\n",
        "Output of PPO GAN is named as SynDss-PPO-m0t1c34 \\\n",
        "Output of PG-cGAN is named as SynDss-PGcB-m0t6c12 \\"
      ],
      "metadata": {
        "id": "WhL56UWkfByq"
      }
    },
    {
      "cell_type": "markdown",
      "source": [
        "# Code Citation \n"
      ],
      "metadata": {
        "id": "sjtHyvZbaRdn"
      }
    },
    {
      "cell_type": "markdown",
      "source": [
        "1. https://github.com/shilab/PG-cGAN . \\\n",
        "git@github.com:shilab/PG-cGAN.git \\\n",
        "\n"
      ],
      "metadata": {
        "id": "LAIfEfjzaZsp"
      }
    }
  ]
}
